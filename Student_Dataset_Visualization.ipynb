{
  "nbformat": 4,
  "nbformat_minor": 0,
  "metadata": {
    "colab": {
      "name": "Student Dataset Visualization",
      "provenance": [],
      "collapsed_sections": [],
      "authorship_tag": "ABX9TyMgLbd1qdP+AVhfXfc+7Mqt",
      "include_colab_link": true
    },
    "kernelspec": {
      "name": "python3",
      "display_name": "Python 3"
    }
  },
  "cells": [
    {
      "cell_type": "markdown",
      "metadata": {
        "id": "view-in-github",
        "colab_type": "text"
      },
      "source": [
        "<a href=\"https://colab.research.google.com/github/Jaswanth-gudiseva/student-dataset-visualization/blob/main/Student_Dataset_Visualization.ipynb\" target=\"_parent\"><img src=\"https://colab.research.google.com/assets/colab-badge.svg\" alt=\"Open In Colab\"/></a>"
      ]
    },
    {
      "cell_type": "code",
      "metadata": {
        "id": "RbAmc0xVevMF"
      },
      "source": [
        "import pandas as pd\n",
        "import numpy as np\n",
        "from matplotlib import pyplot as plt\n",
        "from matplotlib import style\n",
        "%matplotlib inline"
      ],
      "execution_count": 206,
      "outputs": []
    },
    {
      "cell_type": "code",
      "metadata": {
        "id": "NjiqUSchfAkU"
      },
      "source": [
        "#Data Cleaning\n",
        "\n",
        "data = pd.read_csv('/content/grade_pred_tidy.csv')\n",
        "data.drop(107, axis = 0, inplace= True)\n",
        "data.index = range(0,378)\n",
        "data.study_time.fillna(value = 'Everyday upto 0-2 hours' , inplace = True)\n",
        "data.time_outside.fillna(value = 0 , inplace = True)\n",
        "data.fillna(value = 'None', inplace = True)\n",
        "data['attendance'] = data.attendance.str.replace('?','%')\n",
        "data['intra_hostel'] = data.intra_hostel.str.replace('Manthan', '2' )\n",
        "data['intra_hostel'] = data.intra_hostel.str.replace('Irregular', '2' )\n",
        "data['intra_hostel'] = data.intra_hostel.str.replace('Two hours', '2' )\n",
        "data['intra_hostel'] = data.intra_hostel.str.replace('Depends. Before day of event almost entire night', '5' )\n",
        "data['intra_hostel'] = data.intra_hostel.str.replace('0.05', '0' )\n",
        "data['intra_hostel'] = data.intra_hostel.str.replace('None', '0' )\n",
        "data['intra_hostel'] = data.intra_hostel.str.replace('no', '0' )\n",
        "data['intra_hostel'] = data.intra_hostel.str.replace('No', '0' )\n",
        "data['intra_hostel'] = data.intra_hostel.str.replace('O', '0' )\n",
        "\n",
        "a = -1\n",
        "for i in data.intra_hostel:\n",
        "  a += 1\n",
        "  x = ''\n",
        "  for y in i:\n",
        "    if not(y.isalpha()):\n",
        "      x = x + y\n",
        "  data.loc[a, 'intra_hostel'] = x\n",
        "a1 = -1\n",
        "for i1 in data.intra_hostel:\n",
        "  a1 += 1\n",
        "  if len(i1) > 2:\n",
        "    if i1[1] == '-':\n",
        "      k = round(((int(i1[0])+int(i1[2]))/2), 1)\n",
        "      data.loc[a1, 'intra_hostel'] = str(k)\n",
        "data['intra_hostel'] = data.intra_hostel.str.replace('2 -3', '2.5' )\n",
        "data['intra_hostel'] = data.intra_hostel.str.replace('-', '0' )\n",
        "data['intra_hostel'] = data.intra_hostel.str.replace('3:30', '3.5' )\n",
        "data['intra_hostel'] = data.intra_hostel.str.replace('1  2', '1.5' )\n",
        "data['intra_hostel'] = data.intra_hostel.str.replace('1/2', '0.5' )\n",
        "data['intra_hostel'] = data.intra_hostel.str.replace('6  7', '6.5' )\n",
        "data['intra_hostel'] = data.intra_hostel.str.replace('2  3', '2.5' )\n",
        "data['intra_hostel'] = data.intra_hostel.str.replace('2/3/4', '3' )\n",
        "data['intra_hostel'] = data.intra_hostel.str.replace('5  6', '5.5' )\n",
        "data['intra_hostel'] = data.intra_hostel.str.replace(' ', '' )\n",
        "data['intra_hostel'] = data.intra_hostel.str.replace('40', '1' )\n",
        "data.loc[315, 'intra_hostel']  = '24'\n",
        "data['intra_hostel'] = data.intra_hostel.str.replace('24', '10' )\n",
        "data['intra_hostel'] = data.intra_hostel.astype(float)\n",
        "drop_cols = ['Unnamed: 0']\n",
        "data = data.drop(drop_cols, axis = 1)\n",
        "data = data.drop_duplicates(keep = 'first')\n",
        "data.drop(246, axis = 0, inplace= True)\n",
        "data.index = range(1,374)\n",
        "data['hostel'] = data.hostel.str.replace('DIhing', 'Dihing')\n",
        "data['home_city'] = data.home_city.str.replace(' ', '')\n",
        "data['tv_time'] = data.tv_time.astype(int)\n",
        "data['sleep_time'] = data.sleep_time.str.replace('1 am','After 12 am')\n",
        "data['sleep_time'] = data.sleep_time.str.replace('Around 12','After 12 am')\n",
        "data['sleep_time'] = data.sleep_time.str.replace('Around 1','After 12 am')\n",
        "data['sleep_time'] = data.sleep_time.str.replace('Between 12 and 2','After 12 am')\n",
        "data['sleep_time'] = data.sleep_time.str.replace('6:30 am','After 2 am')\n",
        "data['sleep_time'] = data.sleep_time.str.replace('3','After 2 am')"
      ],
      "execution_count": 207,
      "outputs": []
    },
    {
      "cell_type": "code",
      "metadata": {
        "id": "1GEjvUMSf2gp"
      },
      "source": [
        "indexes = []\n",
        "for ind in data.branch.value_counts().index.sort_values():\n",
        "  indexes.append(ind)"
      ],
      "execution_count": 208,
      "outputs": []
    },
    {
      "cell_type": "code",
      "metadata": {
        "id": "HpNJ-7OUaR1m"
      },
      "source": [
        "ls = []\n",
        "for div in indexes:\n",
        "  a = data[data.branch == div].cpi.mean()\n",
        "  ls.append(a)"
      ],
      "execution_count": 209,
      "outputs": []
    },
    {
      "cell_type": "code",
      "metadata": {
        "id": "sNlNIfs5-tXn",
        "colab": {
          "base_uri": "https://localhost:8080/",
          "height": 359
        },
        "outputId": "35339206-c9fb-4291-f9c5-9ec835fdb07d"
      },
      "source": [
        "branch_cpi = pd.DataFrame(ls, indexes, columns = ['CPI'])\n",
        "branch_cpi.index.name  = 'branch'\n",
        "branch_cpi.reset_index(inplace= True)\n",
        "branch_cpi.sort_values('CPI', ascending = False, inplace = True)\n",
        "branch_cpi"
      ],
      "execution_count": 210,
      "outputs": [
        {
          "output_type": "execute_result",
          "data": {
            "text/html": [
              "<div>\n",
              "<style scoped>\n",
              "    .dataframe tbody tr th:only-of-type {\n",
              "        vertical-align: middle;\n",
              "    }\n",
              "\n",
              "    .dataframe tbody tr th {\n",
              "        vertical-align: top;\n",
              "    }\n",
              "\n",
              "    .dataframe thead th {\n",
              "        text-align: right;\n",
              "    }\n",
              "</style>\n",
              "<table border=\"1\" class=\"dataframe\">\n",
              "  <thead>\n",
              "    <tr style=\"text-align: right;\">\n",
              "      <th></th>\n",
              "      <th>branch</th>\n",
              "      <th>CPI</th>\n",
              "    </tr>\n",
              "  </thead>\n",
              "  <tbody>\n",
              "    <tr>\n",
              "      <th>3</th>\n",
              "      <td>CSE</td>\n",
              "      <td>8.492174</td>\n",
              "    </tr>\n",
              "    <tr>\n",
              "      <th>8</th>\n",
              "      <td>MC</td>\n",
              "      <td>8.329643</td>\n",
              "    </tr>\n",
              "    <tr>\n",
              "      <th>6</th>\n",
              "      <td>ECE/EEE</td>\n",
              "      <td>8.067500</td>\n",
              "    </tr>\n",
              "    <tr>\n",
              "      <th>9</th>\n",
              "      <td>ME</td>\n",
              "      <td>7.816286</td>\n",
              "    </tr>\n",
              "    <tr>\n",
              "      <th>5</th>\n",
              "      <td>Design</td>\n",
              "      <td>7.722857</td>\n",
              "    </tr>\n",
              "    <tr>\n",
              "      <th>2</th>\n",
              "      <td>CL</td>\n",
              "      <td>7.553019</td>\n",
              "    </tr>\n",
              "    <tr>\n",
              "      <th>7</th>\n",
              "      <td>EP</td>\n",
              "      <td>7.353929</td>\n",
              "    </tr>\n",
              "    <tr>\n",
              "      <th>4</th>\n",
              "      <td>CST</td>\n",
              "      <td>7.348966</td>\n",
              "    </tr>\n",
              "    <tr>\n",
              "      <th>0</th>\n",
              "      <td>BSBE</td>\n",
              "      <td>7.131081</td>\n",
              "    </tr>\n",
              "    <tr>\n",
              "      <th>1</th>\n",
              "      <td>CE</td>\n",
              "      <td>6.915244</td>\n",
              "    </tr>\n",
              "  </tbody>\n",
              "</table>\n",
              "</div>"
            ],
            "text/plain": [
              "    branch       CPI\n",
              "3      CSE  8.492174\n",
              "8       MC  8.329643\n",
              "6  ECE/EEE  8.067500\n",
              "9       ME  7.816286\n",
              "5   Design  7.722857\n",
              "2       CL  7.553019\n",
              "7       EP  7.353929\n",
              "4      CST  7.348966\n",
              "0     BSBE  7.131081\n",
              "1       CE  6.915244"
            ]
          },
          "metadata": {
            "tags": []
          },
          "execution_count": 210
        }
      ]
    },
    {
      "cell_type": "code",
      "metadata": {
        "id": "ueQA4t1ev2DG",
        "colab": {
          "base_uri": "https://localhost:8080/"
        },
        "outputId": "c43b7e53-fb3f-4797-8345-ebdcfac6a5d3"
      },
      "source": [
        "data[data.branch == 'CE'].cpi.max()"
      ],
      "execution_count": 211,
      "outputs": [
        {
          "output_type": "execute_result",
          "data": {
            "text/plain": [
              "9.23"
            ]
          },
          "metadata": {
            "tags": []
          },
          "execution_count": 211
        }
      ]
    },
    {
      "cell_type": "code",
      "metadata": {
        "id": "OGTO7jPLhQC0",
        "colab": {
          "base_uri": "https://localhost:8080/",
          "height": 320
        },
        "outputId": "52c4e1a2-89ec-4fd3-b77c-d6a6bcb12589"
      },
      "source": [
        "import matplotlib.font_manager\n",
        "style.use('seaborn-dark')\n",
        "fig = plt.bar(branch_cpi.branch, branch_cpi.CPI, color = '#fb7458')\n",
        "plt.title('CPI vs Dept.')\n",
        "plt.xlabel('Dept.', fontsize = 15)\n",
        "plt.ylabel('CPI', fontsize = 15)\n",
        "plt.yticks([0,1,2,3,4,5,6,7,8,9,10])\n",
        "plt.tight_layout()\n",
        "plt.xticks(indexes, fontsize = 11, fontname = 'sans-serif', rotation = 30)\n",
        "plt.show()"
      ],
      "execution_count": 212,
      "outputs": [
        {
          "output_type": "display_data",
          "data": {
            "image/png": "[encoded data removed]",
            "text/plain": [
              "<Figure size 432x288 with 1 Axes>"
            ]
          },
          "metadata": {
            "tags": []
          }
        }
      ]
    },
    {
      "cell_type": "code",
      "metadata": {
        "id": "0g-b6n7whRYx",
        "colab": {
          "base_uri": "https://localhost:8080/",
          "height": 575
        },
        "outputId": "b6251eba-144f-412c-ce07-ee0954a84809"
      },
      "source": [
        "import seaborn as seabornInstance \n",
        "from sklearn.model_selection import train_test_split \n",
        "from sklearn.linear_model import LinearRegression\n",
        "from sklearn import metrics\n",
        "# plt.scatter(data.drop(data[data.intra_hostel == 18].head(1).index, axis = 0).intra_hostel ,data.drop(data[data.intra_hostel == 18].head(1).index, axis = 0).cpi)\n",
        "plt.scatter(data.attention_class, data.cpi)\n",
        "plt.figure(figsize=(6,4))\n",
        "plt.tight_layout()\n",
        "seabornInstance.distplot(data['attention_class'])\n",
        "plt.show()"
      ],
      "execution_count": 213,
      "outputs": [
        {
          "output_type": "stream",
          "text": [
            "/usr/local/lib/python3.7/dist-packages/seaborn/distributions.py:2557: FutureWarning: `distplot` is a deprecated function and will be removed in a future version. Please adapt your code to use either `displot` (a figure-level function with similar flexibility) or `histplot` (an axes-level function for histograms).\n",
            "  warnings.warn(msg, FutureWarning)\n"
          ],
          "name": "stderr"
        },
        {
          "output_type": "display_data",
          "data": {
            "image/png": "[encoded data removed]",
            "text/plain": [
              "<Figure size 432x288 with 1 Axes>"
            ]
          },
          "metadata": {
            "tags": []
          }
        },
        {
          "output_type": "display_data",
          "data": {
            "image/png": "[encoded data removed]",
            "text/plain": [
              "<Figure size 432x288 with 1 Axes>"
            ]
          },
          "metadata": {
            "tags": []
          }
        }
      ]
    },
    {
      "cell_type": "code",
      "metadata": {
        "id": "co7nj0rmcz_K",
        "colab": {
          "base_uri": "https://localhost:8080/",
          "height": 904
        },
        "outputId": "f87bcf79-a2d8-4fa2-f1cd-e7334abdb71e"
      },
      "source": [
        "import statsmodels.api as sm\n",
        "\n",
        "X = data['intra_hostel'].values.reshape(-1,1)\n",
        "y = data['cpi'].values.reshape(-1,1)\n",
        "reg = LinearRegression()\n",
        "reg.fit(X, y)\n",
        "predictions = reg.predict(X)\n",
        "plt.figure(figsize=(16, 8))\n",
        "plt.scatter(\n",
        "    data['intra_hostel'],\n",
        "    data['cpi'],\n",
        "    c='purple'\n",
        ")\n",
        "plt.plot(\n",
        "    data['intra_hostel'],\n",
        "    predictions,\n",
        "    c='black',\n",
        "    linewidth=4\n",
        ")\n",
        "# plt.xlabel(\"Money spent on TV ads ($)\")\n",
        "# plt.ylabel(\"Sales ($)\")\n",
        "plt.show()\n",
        "# X = data['intra']\n",
        "# y = data['sales']\n",
        "X2 = sm.add_constant(X)\n",
        "est = sm.OLS(y, X2)\n",
        "est2 = est.fit()\n",
        "print(est2.summary())\n"
      ],
      "execution_count": 214,
      "outputs": [
        {
          "output_type": "display_data",
          "data": {
            "image/png": "[encoded data removed]",
            "text/plain": [
              "<Figure size 1152x576 with 1 Axes>"
            ]
          },
          "metadata": {
            "tags": []
          }
        },
        {
          "output_type": "stream",
          "text": [
            "                            OLS Regression Results                            \n",
            "==============================================================================\n",
            "Dep. Variable:                      y   R-squared:                       0.002\n",
            "Model:                            OLS   Adj. R-squared:                 -0.001\n",
            "Method:                 Least Squares   F-statistic:                    0.6201\n",
            "Date:                Tue, 20 Jul 2021   Prob (F-statistic):              0.432\n",
            "Time:                        09:35:36   Log-Likelihood:                -607.58\n",
            "No. Observations:                 373   AIC:                             1219.\n",
            "Df Residuals:                     371   BIC:                             1227.\n",
            "Df Model:                           1                                         \n",
            "Covariance Type:            nonrobust                                         \n",
            "==============================================================================\n",
            "                 coef    std err          t      P>|t|      [0.025      0.975]\n",
            "------------------------------------------------------------------------------\n",
            "const          7.7549      0.099     78.681      0.000       7.561       7.949\n",
            "x1            -0.0222      0.028     -0.787      0.432      -0.078       0.033\n",
            "==============================================================================\n",
            "Omnibus:                       48.840   Durbin-Watson:                   2.082\n",
            "Prob(Omnibus):                  0.000   Jarque-Bera (JB):               89.810\n",
            "Skew:                          -0.751   Prob(JB):                     3.15e-20\n",
            "Kurtosis:                       4.876   Cond. No.                         5.65\n",
            "==============================================================================\n",
            "\n",
            "Warnings:\n",
            "[1] Standard Errors assume that the covariance matrix of the errors is correctly specified.\n"
          ],
          "name": "stdout"
        }
      ]
    },
    {
      "cell_type": "code",
      "metadata": {
        "id": "vzMeaiHbjyGl",
        "colab": {
          "base_uri": "https://localhost:8080/"
        },
        "outputId": "78972247-0b16-414a-db7f-7d0ad5aaf616"
      },
      "source": [
        "from sklearn.metrics import mean_squared_error\n",
        "\n",
        "from math import sqrt\n",
        "\n",
        "rmse = sqrt(mean_squared_error(data.cpi, predictions))\n",
        "\n",
        "print(rmse)"
      ],
      "execution_count": 215,
      "outputs": [
        {
          "output_type": "stream",
          "text": [
            "1.2336216839535048\n"
          ],
          "name": "stdout"
        }
      ]
    },
    {
      "cell_type": "code",
      "metadata": {
        "id": "EjjlBapsc6fC",
        "colab": {
          "base_uri": "https://localhost:8080/"
        },
        "outputId": "f3e389d0-e1a1-4dbd-d42e-17e7e4b815c6"
      },
      "source": [
        "from scipy import stats\n",
        "stats.pearsonr(data.tv_time, data.cpi)"
      ],
      "execution_count": 216,
      "outputs": [
        {
          "output_type": "execute_result",
          "data": {
            "text/plain": [
              "(-0.16302494377981935, 0.0015824257816724353)"
            ]
          },
          "metadata": {
            "tags": []
          },
          "execution_count": 216
        }
      ]
    },
    {
      "cell_type": "code",
      "metadata": {
        "id": "6IXN72Fvs1yQ",
        "colab": {
          "base_uri": "https://localhost:8080/"
        },
        "outputId": "aaef94d1-2a11-40f6-d22a-22dee1b89885"
      },
      "source": [
        "data.attendance.value_counts()"
      ],
      "execution_count": 217,
      "outputs": [
        {
          "output_type": "execute_result",
          "data": {
            "text/plain": [
              "Below 90%    209\n",
              "Above 90%    139\n",
              "Below 75%     25\n",
              "Name: attendance, dtype: int64"
            ]
          },
          "metadata": {
            "tags": []
          },
          "execution_count": 217
        }
      ]
    },
    {
      "cell_type": "code",
      "metadata": {
        "id": "puGudUi4IU4K",
        "colab": {
          "base_uri": "https://localhost:8080/",
          "height": 416
        },
        "outputId": "59b64673-54fd-4982-dc1c-2a544b9469ba"
      },
      "source": [
        "attendance_range = ['Above 90%', 'Below 90%', 'Below 75%']\n",
        "attendance_cpi_mean = []\n",
        "for attendance_value in attendance_range:\n",
        "  attendance_cpi_mean.append(data[data.attendance == attendance_value].cpi.mean())\n",
        "plt.bar(attendance_range, attendance_cpi_mean, color = '#fb7458')\n",
        "plt.xlabel('Attendance')\n",
        "plt.ylabel('CPI')\n",
        "plt.title('Attendance vs CPI')\n",
        "plt.yticks([0,1,2,3,4,5,6,7,8,9,10])\n",
        "plt.show()\n",
        "pd.DataFrame(attendance_range, attendance_cpi_mean)"
      ],
      "execution_count": 218,
      "outputs": [
        {
          "output_type": "display_data",
          "data": {
            "image/png": "[encoded data removed]",
            "text/plain": [
              "<Figure size 432x288 with 1 Axes>"
            ]
          },
          "metadata": {
            "tags": []
          }
        },
        {
          "output_type": "execute_result",
          "data": {
            "text/html": [
              "<div>\n",
              "<style scoped>\n",
              "    .dataframe tbody tr th:only-of-type {\n",
              "        vertical-align: middle;\n",
              "    }\n",
              "\n",
              "    .dataframe tbody tr th {\n",
              "        vertical-align: top;\n",
              "    }\n",
              "\n",
              "    .dataframe thead th {\n",
              "        text-align: right;\n",
              "    }\n",
              "</style>\n",
              "<table border=\"1\" class=\"dataframe\">\n",
              "  <thead>\n",
              "    <tr style=\"text-align: right;\">\n",
              "      <th></th>\n",
              "      <th>0</th>\n",
              "    </tr>\n",
              "  </thead>\n",
              "  <tbody>\n",
              "    <tr>\n",
              "      <th>8.109619</th>\n",
              "      <td>Above 90%</td>\n",
              "    </tr>\n",
              "    <tr>\n",
              "      <th>7.452225</th>\n",
              "      <td>Below 90%</td>\n",
              "    </tr>\n",
              "    <tr>\n",
              "      <th>7.432400</th>\n",
              "      <td>Below 75%</td>\n",
              "    </tr>\n",
              "  </tbody>\n",
              "</table>\n",
              "</div>"
            ],
            "text/plain": [
              "                  0\n",
              "8.109619  Above 90%\n",
              "7.452225  Below 90%\n",
              "7.432400  Below 75%"
            ]
          },
          "metadata": {
            "tags": []
          },
          "execution_count": 218
        }
      ]
    },
    {
      "cell_type": "code",
      "metadata": {
        "id": "vyvPFzJYL7GV"
      },
      "source": [
        "cult = [value for value in data.cult_clubs.value_counts().head(8).index]\n",
        "cult.append('Octaves')"
      ],
      "execution_count": 219,
      "outputs": []
    },
    {
      "cell_type": "code",
      "metadata": {
        "id": "ZTubI_QZQLdR"
      },
      "source": [
        "arr = []\n",
        "for car in data.cult_clubs:\n",
        "  arr.append(car)\n",
        "arr.append('Octaves')\n",
        "arr1 = []\n",
        "for a in arr:\n",
        "  arr1.append(data[data.cult_clubs == a].cpi)"
      ],
      "execution_count": 220,
      "outputs": []
    },
    {
      "cell_type": "code",
      "metadata": {
        "id": "Vu6XhTJXSUQ_",
        "colab": {
          "base_uri": "https://localhost:8080/",
          "height": 328
        },
        "outputId": "276cfc09-5bbf-4f81-cc7b-42ee2bb48b05"
      },
      "source": [
        "arr = []\n",
        "for an in cult:\n",
        "  arr.append(data[data.cult_clubs.str.contains(an)].cpi.mean())\n",
        "show_pd = pd.DataFrame(aj, cult)\n",
        "show_pd.columns = ['CPI']\n",
        "show_pd.sort_values('CPI', ascending = False, inplace = True)\n",
        "show_pd"
      ],
      "execution_count": 221,
      "outputs": [
        {
          "output_type": "execute_result",
          "data": {
            "text/html": [
              "<div>\n",
              "<style scoped>\n",
              "    .dataframe tbody tr th:only-of-type {\n",
              "        vertical-align: middle;\n",
              "    }\n",
              "\n",
              "    .dataframe tbody tr th {\n",
              "        vertical-align: top;\n",
              "    }\n",
              "\n",
              "    .dataframe thead th {\n",
              "        text-align: right;\n",
              "    }\n",
              "</style>\n",
              "<table border=\"1\" class=\"dataframe\">\n",
              "  <thead>\n",
              "    <tr style=\"text-align: right;\">\n",
              "      <th></th>\n",
              "      <th>CPI</th>\n",
              "    </tr>\n",
              "  </thead>\n",
              "  <tbody>\n",
              "    <tr>\n",
              "      <th>Debsoc</th>\n",
              "      <td>8.513913</td>\n",
              "    </tr>\n",
              "    <tr>\n",
              "      <th>AnR</th>\n",
              "      <td>7.937857</td>\n",
              "    </tr>\n",
              "    <tr>\n",
              "      <th>Lumiere</th>\n",
              "      <td>7.655000</td>\n",
              "    </tr>\n",
              "    <tr>\n",
              "      <th>Drama club</th>\n",
              "      <td>7.653478</td>\n",
              "    </tr>\n",
              "    <tr>\n",
              "      <th>Fine-Arts</th>\n",
              "      <td>7.646667</td>\n",
              "    </tr>\n",
              "    <tr>\n",
              "      <th>None</th>\n",
              "      <td>7.641012</td>\n",
              "    </tr>\n",
              "    <tr>\n",
              "      <th>Cadence</th>\n",
              "      <td>7.581600</td>\n",
              "    </tr>\n",
              "    <tr>\n",
              "      <th>Montage</th>\n",
              "      <td>7.521111</td>\n",
              "    </tr>\n",
              "    <tr>\n",
              "      <th>Octaves</th>\n",
              "      <td>7.397778</td>\n",
              "    </tr>\n",
              "  </tbody>\n",
              "</table>\n",
              "</div>"
            ],
            "text/plain": [
              "                 CPI\n",
              "Debsoc      8.513913\n",
              "AnR         7.937857\n",
              "Lumiere     7.655000\n",
              "Drama club  7.653478\n",
              "Fine-Arts   7.646667\n",
              "None        7.641012\n",
              "Cadence     7.581600\n",
              "Montage     7.521111\n",
              "Octaves     7.397778"
            ]
          },
          "metadata": {
            "tags": []
          },
          "execution_count": 221
        }
      ]
    },
    {
      "cell_type": "code",
      "metadata": {
        "id": "wlu4hAXR6Cno",
        "colab": {
          "base_uri": "https://localhost:8080/",
          "height": 308
        },
        "outputId": "c80b8692-8c6e-4eea-ea3f-a53d4fd26a3a"
      },
      "source": [
        "plt.barh(show_pd.index, show_pd.CPI, color = '#fb7458' )\n",
        "plt.xlabel('CPI')\n",
        "plt.xticks([0,1,2,3,4,5,6,7,8,9,10])\n",
        "plt.ylabel('Cultural Clubs')\n",
        "plt.title('Cultural Clubs vs CPI')"
      ],
      "execution_count": 224,
      "outputs": [
        {
          "output_type": "execute_result",
          "data": {
            "text/plain": [
              "Text(0.5, 1.0, 'Cultural Clubs vs CPI')"
            ]
          },
          "metadata": {
            "tags": []
          },
          "execution_count": 224
        },
        {
          "output_type": "display_data",
          "data": {
            "image/png": "[encoded data removed]",
            "text/plain": [
              "<Figure size 432x288 with 1 Axes>"
            ]
          },
          "metadata": {
            "tags": []
          }
        }
      ]
    },
    {
      "cell_type": "code",
      "metadata": {
        "id": "uaB50aTJ8eBM",
        "colab": {
          "base_uri": "https://localhost:8080/",
          "height": 633
        },
        "outputId": "be044c81-e4ec-4d38-c404-9c875fe8ced4"
      },
      "source": [
        "tech = ['None', 'FEC', 'Aero', 'Coding Club', 'Robotics', 'Electronics', 'CnA', 'Automobile Club', 'Quiz', 'EDC' ]\n",
        "arr = []\n",
        "for a in tech:\n",
        "  arr.append(data[data.tech_clubs.str.contains(a)].cpi.max())\n",
        "show_pd = pd.DataFrame(arr, tech)\n",
        "show_pd.columns = ['CPI']\n",
        "show_pd.sort_values('CPI', ascending = True, inplace = True)\n",
        "plt.barh(ks.index, ks.CPI, color = '#fb7458' )\n",
        "plt.xlabel('CPI')\n",
        "plt.xticks([0,1,2,3,4,5,6,7,8,9,10])\n",
        "plt.ylabel('Technical Clubs')\n",
        "plt.title('Technical Clubs vs CPI')\n",
        "show_pd"
      ],
      "execution_count": 225,
      "outputs": [
        {
          "output_type": "execute_result",
          "data": {
            "text/html": [
              "<div>\n",
              "<style scoped>\n",
              "    .dataframe tbody tr th:only-of-type {\n",
              "        vertical-align: middle;\n",
              "    }\n",
              "\n",
              "    .dataframe tbody tr th {\n",
              "        vertical-align: top;\n",
              "    }\n",
              "\n",
              "    .dataframe thead th {\n",
              "        text-align: right;\n",
              "    }\n",
              "</style>\n",
              "<table border=\"1\" class=\"dataframe\">\n",
              "  <thead>\n",
              "    <tr style=\"text-align: right;\">\n",
              "      <th></th>\n",
              "      <th>CPI</th>\n",
              "    </tr>\n",
              "  </thead>\n",
              "  <tbody>\n",
              "    <tr>\n",
              "      <th>Automobile Club</th>\n",
              "      <td>8.20</td>\n",
              "    </tr>\n",
              "    <tr>\n",
              "      <th>EDC</th>\n",
              "      <td>9.23</td>\n",
              "    </tr>\n",
              "    <tr>\n",
              "      <th>Aero</th>\n",
              "      <td>9.74</td>\n",
              "    </tr>\n",
              "    <tr>\n",
              "      <th>Quiz</th>\n",
              "      <td>9.77</td>\n",
              "    </tr>\n",
              "    <tr>\n",
              "      <th>Robotics</th>\n",
              "      <td>9.81</td>\n",
              "    </tr>\n",
              "    <tr>\n",
              "      <th>FEC</th>\n",
              "      <td>9.93</td>\n",
              "    </tr>\n",
              "    <tr>\n",
              "      <th>Coding Club</th>\n",
              "      <td>9.93</td>\n",
              "    </tr>\n",
              "    <tr>\n",
              "      <th>Electronics</th>\n",
              "      <td>9.93</td>\n",
              "    </tr>\n",
              "    <tr>\n",
              "      <th>CnA</th>\n",
              "      <td>9.93</td>\n",
              "    </tr>\n",
              "    <tr>\n",
              "      <th>None</th>\n",
              "      <td>10.00</td>\n",
              "    </tr>\n",
              "  </tbody>\n",
              "</table>\n",
              "</div>"
            ],
            "text/plain": [
              "                   CPI\n",
              "Automobile Club   8.20\n",
              "EDC               9.23\n",
              "Aero              9.74\n",
              "Quiz              9.77\n",
              "Robotics          9.81\n",
              "FEC               9.93\n",
              "Coding Club       9.93\n",
              "Electronics       9.93\n",
              "CnA               9.93\n",
              "None             10.00"
            ]
          },
          "metadata": {
            "tags": []
          },
          "execution_count": 225
        },
        {
          "output_type": "display_data",
          "data": {
            "image/png": "[encoded data removed]",
            "text/plain": [
              "<Figure size 432x288 with 1 Axes>"
            ]
          },
          "metadata": {
            "tags": []
          }
        }
      ]
    },
    {
      "cell_type": "code",
      "metadata": {
        "id": "ywHuIpOcuaNE",
        "colab": {
          "base_uri": "https://localhost:8080/"
        },
        "outputId": "7a02a15f-2f31-43e7-ab1c-b69461bf5aac"
      },
      "source": [
        "data.fest.value_counts()"
      ],
      "execution_count": 226,
      "outputs": [
        {
          "output_type": "execute_result",
          "data": {
            "text/plain": [
              "None                        115\n",
              "Alcher                       88\n",
              "Techniche                    64\n",
              "Techniche, Alcher            52\n",
              "Udgam                        13\n",
              "Other                        10\n",
              "Techniche, Udgam             10\n",
              "Techniche, Alcher, Udgam      8\n",
              "Alcher, Other                 4\n",
              "Techniche, Alcher, Other      4\n",
              "Alcher, Udgam                 3\n",
              "Udgam, Other                  1\n",
              "Techniche, Other              1\n",
              "Name: fest, dtype: int64"
            ]
          },
          "metadata": {
            "tags": []
          },
          "execution_count": 226
        }
      ]
    },
    {
      "cell_type": "code",
      "metadata": {
        "id": "8lMqzf1Hvqlk",
        "colab": {
          "base_uri": "https://localhost:8080/",
          "height": 667
        },
        "outputId": "f7d4308c-925f-42ac-b3c9-36b46eb9209f"
      },
      "source": [
        "arr = []\n",
        "for hostel in data.hostel.value_counts().index:\n",
        "  arr.append(data[data.hostel.str.contains(hostel)].cpi.mean())\n",
        "show_pd = pd.DataFrame(arr, data.hostel.value_counts().index)\n",
        "show_pd.columns = ['CPI']\n",
        "show_pd.sort_values('CPI', ascending = False, inplace = True)\n",
        "plt.bar(show_pd.index, show_pd.CPI, color = '#fb7458' )\n",
        "plt.yticks([0,1,2,3,4,5,6,7,8,9]) \n",
        "plt.xticks(rotation = 40)\n",
        "plt.xlabel('Hostel')\n",
        "plt.ylabel('CPI')\n",
        "plt.title('Hostel vs CPI')\n",
        "show_pd"
      ],
      "execution_count": 227,
      "outputs": [
        {
          "output_type": "execute_result",
          "data": {
            "text/html": [
              "<div>\n",
              "<style scoped>\n",
              "    .dataframe tbody tr th:only-of-type {\n",
              "        vertical-align: middle;\n",
              "    }\n",
              "\n",
              "    .dataframe tbody tr th {\n",
              "        vertical-align: top;\n",
              "    }\n",
              "\n",
              "    .dataframe thead th {\n",
              "        text-align: right;\n",
              "    }\n",
              "</style>\n",
              "<table border=\"1\" class=\"dataframe\">\n",
              "  <thead>\n",
              "    <tr style=\"text-align: right;\">\n",
              "      <th></th>\n",
              "      <th>CPI</th>\n",
              "    </tr>\n",
              "  </thead>\n",
              "  <tbody>\n",
              "    <tr>\n",
              "      <th>Kameng</th>\n",
              "      <td>8.279091</td>\n",
              "    </tr>\n",
              "    <tr>\n",
              "      <th>Dihing</th>\n",
              "      <td>8.120000</td>\n",
              "    </tr>\n",
              "    <tr>\n",
              "      <th>Manas</th>\n",
              "      <td>7.947000</td>\n",
              "    </tr>\n",
              "    <tr>\n",
              "      <th>Umiam</th>\n",
              "      <td>7.824400</td>\n",
              "    </tr>\n",
              "    <tr>\n",
              "      <th>Brahmaputra</th>\n",
              "      <td>7.712931</td>\n",
              "    </tr>\n",
              "    <tr>\n",
              "      <th>Dhansiri</th>\n",
              "      <td>7.694255</td>\n",
              "    </tr>\n",
              "    <tr>\n",
              "      <th>Lohit</th>\n",
              "      <td>7.691000</td>\n",
              "    </tr>\n",
              "    <tr>\n",
              "      <th>Siang</th>\n",
              "      <td>7.677375</td>\n",
              "    </tr>\n",
              "    <tr>\n",
              "      <th>Kapili</th>\n",
              "      <td>7.512000</td>\n",
              "    </tr>\n",
              "    <tr>\n",
              "      <th>Barak</th>\n",
              "      <td>7.469388</td>\n",
              "    </tr>\n",
              "  </tbody>\n",
              "</table>\n",
              "</div>"
            ],
            "text/plain": [
              "                  CPI\n",
              "Kameng       8.279091\n",
              "Dihing       8.120000\n",
              "Manas        7.947000\n",
              "Umiam        7.824400\n",
              "Brahmaputra  7.712931\n",
              "Dhansiri     7.694255\n",
              "Lohit        7.691000\n",
              "Siang        7.677375\n",
              "Kapili       7.512000\n",
              "Barak        7.469388"
            ]
          },
          "metadata": {
            "tags": []
          },
          "execution_count": 227
        },
        {
          "output_type": "display_data",
          "data": {
            "image/png": "[encoded data removed]",
            "text/plain": [
              "<Figure size 432x288 with 1 Axes>"
            ]
          },
          "metadata": {
            "tags": []
          }
        }
      ]
    },
    {
      "cell_type": "code",
      "metadata": {
        "id": "iSxNoLARuX8R",
        "colab": {
          "base_uri": "https://localhost:8080/",
          "height": 478
        },
        "outputId": "0c0015ae-84f3-4d2c-9e32-653cd6f9a936"
      },
      "source": [
        "fest = ['Alcher', 'Techniche', 'Udgam', 'Other', 'None']\n",
        "arr = []\n",
        "for ansa in fest:\n",
        "  arr.append(data[data.fest.str.contains(ansa)].cpi.mean())\n",
        "show_pd = pd.DataFrame(arr, fest)\n",
        "show_pd.columns = ['CPI']\n",
        "show_pd.sort_values('CPI', ascending = True, inplace = True)\n",
        "plt.barh(show_pd.index, show_pd.CPI, color = '#fb7458' )\n",
        "plt.xticks([0,1,2,3,4,5,6,7,8,9,10])\n",
        "plt.xlabel('CPI')\n",
        "plt.ylabel('Fest')\n",
        "plt.title('Fest vs CPI')\n",
        "show_pd"
      ],
      "execution_count": 228,
      "outputs": [
        {
          "output_type": "execute_result",
          "data": {
            "text/html": [
              "<div>\n",
              "<style scoped>\n",
              "    .dataframe tbody tr th:only-of-type {\n",
              "        vertical-align: middle;\n",
              "    }\n",
              "\n",
              "    .dataframe tbody tr th {\n",
              "        vertical-align: top;\n",
              "    }\n",
              "\n",
              "    .dataframe thead th {\n",
              "        text-align: right;\n",
              "    }\n",
              "</style>\n",
              "<table border=\"1\" class=\"dataframe\">\n",
              "  <thead>\n",
              "    <tr style=\"text-align: right;\">\n",
              "      <th></th>\n",
              "      <th>CPI</th>\n",
              "    </tr>\n",
              "  </thead>\n",
              "  <tbody>\n",
              "    <tr>\n",
              "      <th>Other</th>\n",
              "      <td>7.297350</td>\n",
              "    </tr>\n",
              "    <tr>\n",
              "      <th>None</th>\n",
              "      <td>7.616087</td>\n",
              "    </tr>\n",
              "    <tr>\n",
              "      <th>Alcher</th>\n",
              "      <td>7.642453</td>\n",
              "    </tr>\n",
              "    <tr>\n",
              "      <th>Techniche</th>\n",
              "      <td>7.828669</td>\n",
              "    </tr>\n",
              "    <tr>\n",
              "      <th>Udgam</th>\n",
              "      <td>7.898857</td>\n",
              "    </tr>\n",
              "  </tbody>\n",
              "</table>\n",
              "</div>"
            ],
            "text/plain": [
              "                CPI\n",
              "Other      7.297350\n",
              "None       7.616087\n",
              "Alcher     7.642453\n",
              "Techniche  7.828669\n",
              "Udgam      7.898857"
            ]
          },
          "metadata": {
            "tags": []
          },
          "execution_count": 228
        },
        {
          "output_type": "display_data",
          "data": {
            "image/png": "[encoded data removed]",
            "text/plain": [
              "<Figure size 432x288 with 1 Axes>"
            ]
          },
          "metadata": {
            "tags": []
          }
        }
      ]
    },
    {
      "cell_type": "code",
      "metadata": {
        "id": "aDZ88cALVVnc"
      },
      "source": [
        "pd.set_option(\"display.max_rows\", None, \"display.max_columns\", None)\n",
        "# data.tech_clubs.value_counts()"
      ],
      "execution_count": 229,
      "outputs": []
    },
    {
      "cell_type": "code",
      "metadata": {
        "id": "PEYPGUVER03j",
        "colab": {
          "base_uri": "https://localhost:8080/"
        },
        "outputId": "5fe2a50a-0b04-4cce-9d19-92f6d1918f41"
      },
      "source": [
        "data.intra_hostel.value_counts().values"
      ],
      "execution_count": 230,
      "outputs": [
        {
          "output_type": "execute_result",
          "data": {
            "text/plain": [
              "array([64, 58, 58, 48, 39, 24, 12, 11, 11,  8,  8,  7,  6,  6,  4,  3,  2,\n",
              "        2,  1,  1])"
            ]
          },
          "metadata": {
            "tags": []
          },
          "execution_count": 230
        }
      ]
    },
    {
      "cell_type": "code",
      "metadata": {
        "id": "pUjeoHtG-Tmd",
        "colab": {
          "base_uri": "https://localhost:8080/",
          "height": 291
        },
        "outputId": "68187687-7cef-412b-feaf-2b9577e0a44a"
      },
      "source": [
        "# sns.lmplot('intra_hostel', 'cpi', data=data, hue = None, palette = ['#fb7458'], )\n",
        "scatter = plt.scatter(data.intra_hostel.value_counts().index, [data[data.intra_hostel == jl].cpi.mean() for jl in data.intra_hostel.value_counts().index], s = [n*10 for n in data.intra_hostel.value_counts().values], color = '#fb7458' )\n",
        "handles, labels = scatter.legend_elements(prop=\"sizes\", alpha= 1, color = '#fb7458' )\n",
        "plt.legend(handles, [8,16,24,32,40,48,56,64], loc=\"upper right\", title=\"No. of students\")\n",
        "plt.xlabel('Time spent for Intra hostel activities')\n",
        "plt.ylabel('CPI')\n",
        "plt.title('Time spent for Intra hostel activities vs CPI')\n",
        "# plt.legend(bbox_to_anchor = [1,1])\n",
        "plt.show()"
      ],
      "execution_count": 231,
      "outputs": [
        {
          "output_type": "display_data",
          "data": {
            "image/png": "[encoded data removed]",
            "text/plain": [
              "<Figure size 432x288 with 1 Axes>"
            ]
          },
          "metadata": {
            "tags": []
          }
        }
      ]
    },
    {
      "cell_type": "code",
      "metadata": {
        "id": "VJW3BruftS6y",
        "colab": {
          "base_uri": "https://localhost:8080/",
          "height": 469
        },
        "outputId": "f321cc07-49ea-476a-a9f3-ca80dd1b7832"
      },
      "source": [
        "import seaborn as sns\n",
        "\n",
        "sns.lmplot('intra_hostel', 'cpi', data=data, hue = 'gender', palette = ['purple', '#fb7458'])\n",
        "plt.xlabel('Time spent for Intra hostel activities')\n",
        "plt.ylabel('CPI')\n",
        "plt.title('Time spent for Intra hostel activities vs CPI')"
      ],
      "execution_count": 232,
      "outputs": [
        {
          "output_type": "stream",
          "text": [
            "/usr/local/lib/python3.7/dist-packages/seaborn/_decorators.py:43: FutureWarning: Pass the following variables as keyword args: x, y. From version 0.12, the only valid positional argument will be `data`, and passing other arguments without an explicit keyword will result in an error or misinterpretation.\n",
            "  FutureWarning\n"
          ],
          "name": "stderr"
        },
        {
          "output_type": "execute_result",
          "data": {
            "text/plain": [
              "Text(0.5, 1.0, 'Time spent for Intra hostel activities vs CPI')"
            ]
          },
          "metadata": {
            "tags": []
          },
          "execution_count": 232
        },
        {
          "output_type": "display_data",
          "data": {
            "image/png": "[encoded data removed]",
            "text/plain": [
              "<Figure size 429.375x360 with 1 Axes>"
            ]
          },
          "metadata": {
            "tags": []
          }
        }
      ]
    },
    {
      "cell_type": "code",
      "metadata": {
        "id": "M69K9iwCYPXH",
        "colab": {
          "base_uri": "https://localhost:8080/"
        },
        "outputId": "e7f89c10-dd88-4072-aa05-b63036a461f5"
      },
      "source": [
        "from scipy.stats import linregress\n",
        "linregress(data.intra_hostel, data.cpi)\n",
        "(-0.040847388674438566)**2"
      ],
      "execution_count": 233,
      "outputs": [
        {
          "output_type": "execute_result",
          "data": {
            "text/plain": [
              "0.001668509161520652"
            ]
          },
          "metadata": {
            "tags": []
          },
          "execution_count": 233
        }
      ]
    },
    {
      "cell_type": "code",
      "metadata": {
        "id": "m3QlP4J5eblk",
        "colab": {
          "base_uri": "https://localhost:8080/"
        },
        "outputId": "e210f36c-c2db-447c-e011-fa74006e5d7e"
      },
      "source": [
        "stats.pearsonr(data.intra_hostel, data.cpi)"
      ],
      "execution_count": 234,
      "outputs": [
        {
          "output_type": "execute_result",
          "data": {
            "text/plain": [
              "(-0.040847388674438524, 0.4315309260923555)"
            ]
          },
          "metadata": {
            "tags": []
          },
          "execution_count": 234
        }
      ]
    },
    {
      "cell_type": "code",
      "metadata": {
        "id": "bWttpTbM7Hwo",
        "colab": {
          "base_uri": "https://localhost:8080/"
        },
        "outputId": "2968b11c-b7db-4f5e-9a04-4e5f760736a3"
      },
      "source": [
        "stats.pearsonr(data[data.gender == 'Male'].intra_hostel, data[data.gender == 'Male'].cpi)"
      ],
      "execution_count": 235,
      "outputs": [
        {
          "output_type": "execute_result",
          "data": {
            "text/plain": [
              "(-0.05962926588725324, 0.28456035606255736)"
            ]
          },
          "metadata": {
            "tags": []
          },
          "execution_count": 235
        }
      ]
    },
    {
      "cell_type": "code",
      "metadata": {
        "id": "aqqM6YaxVyrL",
        "colab": {
          "base_uri": "https://localhost:8080/",
          "height": 342
        },
        "outputId": "621cffbc-11de-43d0-d39e-7a16ad69376b"
      },
      "source": [
        "sns.heatmap(data.corr())"
      ],
      "execution_count": 236,
      "outputs": [
        {
          "output_type": "execute_result",
          "data": {
            "text/plain": [
              "<matplotlib.axes._subplots.AxesSubplot at 0x7f86c262ec50>"
            ]
          },
          "metadata": {
            "tags": []
          },
          "execution_count": 236
        },
        {
          "output_type": "display_data",
          "data": {
            "image/png": "[encoded data removed]",
            "text/plain": [
              "<Figure size 432x288 with 2 Axes>"
            ]
          },
          "metadata": {
            "tags": []
          }
        }
      ]
    },
    {
      "cell_type": "code",
      "metadata": {
        "id": "t1HDMPNHZ3ZQ",
        "colab": {
          "base_uri": "https://localhost:8080/",
          "height": 458
        },
        "outputId": "5753e496-d82a-47dc-fad4-e80677484e97"
      },
      "source": [
        "sns.jointplot(x='intra_hostel', y='cpi', data=data)\n"
      ],
      "execution_count": 237,
      "outputs": [
        {
          "output_type": "execute_result",
          "data": {
            "text/plain": [
              "<seaborn.axisgrid.JointGrid at 0x7f86c25f2cd0>"
            ]
          },
          "metadata": {
            "tags": []
          },
          "execution_count": 237
        },
        {
          "output_type": "display_data",
          "data": {
            "image/png": "[encoded data removed]",
            "text/plain": [
              "<Figure size 432x432 with 3 Axes>"
            ]
          },
          "metadata": {
            "tags": []
          }
        }
      ]
    },
    {
      "cell_type": "code",
      "metadata": {
        "id": "MoCXmDI3qT-u",
        "colab": {
          "base_uri": "https://localhost:8080/",
          "height": 204
        },
        "outputId": "e3cbbfde-0eab-40e7-b377-b935a2ba34aa"
      },
      "source": [
        "df_num = data.select_dtypes(include = ['float64', 'int64'])\n",
        "df_num.head()"
      ],
      "execution_count": 238,
      "outputs": [
        {
          "output_type": "execute_result",
          "data": {
            "text/html": [
              "<div>\n",
              "<style scoped>\n",
              "    .dataframe tbody tr th:only-of-type {\n",
              "        vertical-align: middle;\n",
              "    }\n",
              "\n",
              "    .dataframe tbody tr th {\n",
              "        vertical-align: top;\n",
              "    }\n",
              "\n",
              "    .dataframe thead th {\n",
              "        text-align: right;\n",
              "    }\n",
              "</style>\n",
              "<table border=\"1\" class=\"dataframe\">\n",
              "  <thead>\n",
              "    <tr style=\"text-align: right;\">\n",
              "      <th></th>\n",
              "      <th>fam_size</th>\n",
              "      <th>intra_hostel</th>\n",
              "      <th>time_outside</th>\n",
              "      <th>tv_time</th>\n",
              "      <th>ta_relation</th>\n",
              "      <th>lab</th>\n",
              "      <th>tut</th>\n",
              "      <th>quiz</th>\n",
              "      <th>midsem</th>\n",
              "      <th>endsem</th>\n",
              "      <th>branch_change</th>\n",
              "      <th>attention_class</th>\n",
              "      <th>branch_interest</th>\n",
              "      <th>cpi</th>\n",
              "    </tr>\n",
              "  </thead>\n",
              "  <tbody>\n",
              "    <tr>\n",
              "      <th>1</th>\n",
              "      <td>9</td>\n",
              "      <td>6.5</td>\n",
              "      <td>12.0</td>\n",
              "      <td>2</td>\n",
              "      <td>4</td>\n",
              "      <td>4.0</td>\n",
              "      <td>3.0</td>\n",
              "      <td>5.0</td>\n",
              "      <td>5.0</td>\n",
              "      <td>5.0</td>\n",
              "      <td>2.0</td>\n",
              "      <td>1.0</td>\n",
              "      <td>3.0</td>\n",
              "      <td>7.56</td>\n",
              "    </tr>\n",
              "    <tr>\n",
              "      <th>2</th>\n",
              "      <td>6</td>\n",
              "      <td>5.5</td>\n",
              "      <td>4.0</td>\n",
              "      <td>1</td>\n",
              "      <td>4</td>\n",
              "      <td>4.0</td>\n",
              "      <td>3.0</td>\n",
              "      <td>4.0</td>\n",
              "      <td>5.0</td>\n",
              "      <td>5.0</td>\n",
              "      <td>4.0</td>\n",
              "      <td>3.0</td>\n",
              "      <td>4.0</td>\n",
              "      <td>7.40</td>\n",
              "    </tr>\n",
              "    <tr>\n",
              "      <th>3</th>\n",
              "      <td>4</td>\n",
              "      <td>3.0</td>\n",
              "      <td>2.0</td>\n",
              "      <td>1</td>\n",
              "      <td>4</td>\n",
              "      <td>4.0</td>\n",
              "      <td>3.0</td>\n",
              "      <td>5.0</td>\n",
              "      <td>5.0</td>\n",
              "      <td>5.0</td>\n",
              "      <td>2.0</td>\n",
              "      <td>4.0</td>\n",
              "      <td>4.0</td>\n",
              "      <td>7.20</td>\n",
              "    </tr>\n",
              "    <tr>\n",
              "      <th>4</th>\n",
              "      <td>5</td>\n",
              "      <td>1.0</td>\n",
              "      <td>3.0</td>\n",
              "      <td>1</td>\n",
              "      <td>5</td>\n",
              "      <td>5.0</td>\n",
              "      <td>4.0</td>\n",
              "      <td>4.0</td>\n",
              "      <td>5.0</td>\n",
              "      <td>5.0</td>\n",
              "      <td>3.0</td>\n",
              "      <td>5.0</td>\n",
              "      <td>4.0</td>\n",
              "      <td>7.70</td>\n",
              "    </tr>\n",
              "    <tr>\n",
              "      <th>5</th>\n",
              "      <td>4</td>\n",
              "      <td>3.0</td>\n",
              "      <td>8.0</td>\n",
              "      <td>2</td>\n",
              "      <td>3</td>\n",
              "      <td>4.0</td>\n",
              "      <td>4.0</td>\n",
              "      <td>3.0</td>\n",
              "      <td>4.0</td>\n",
              "      <td>5.0</td>\n",
              "      <td>4.0</td>\n",
              "      <td>2.0</td>\n",
              "      <td>2.0</td>\n",
              "      <td>9.19</td>\n",
              "    </tr>\n",
              "  </tbody>\n",
              "</table>\n",
              "</div>"
            ],
            "text/plain": [
              "   fam_size  intra_hostel  time_outside  tv_time  ta_relation  lab  tut  quiz  \\\n",
              "1         9           6.5          12.0        2            4  4.0  3.0   5.0   \n",
              "2         6           5.5           4.0        1            4  4.0  3.0   4.0   \n",
              "3         4           3.0           2.0        1            4  4.0  3.0   5.0   \n",
              "4         5           1.0           3.0        1            5  5.0  4.0   4.0   \n",
              "5         4           3.0           8.0        2            3  4.0  4.0   3.0   \n",
              "\n",
              "   midsem  endsem  branch_change  attention_class  branch_interest   cpi  \n",
              "1     5.0     5.0            2.0              1.0              3.0  7.56  \n",
              "2     5.0     5.0            4.0              3.0              4.0  7.40  \n",
              "3     5.0     5.0            2.0              4.0              4.0  7.20  \n",
              "4     5.0     5.0            3.0              5.0              4.0  7.70  \n",
              "5     4.0     5.0            4.0              2.0              2.0  9.19  "
            ]
          },
          "metadata": {
            "tags": []
          },
          "execution_count": 238
        }
      ]
    },
    {
      "cell_type": "code",
      "metadata": {
        "id": "4WKY0za4n75s",
        "colab": {
          "base_uri": "https://localhost:8080/"
        },
        "outputId": "a3cb1bde-12b2-41c9-ce47-fec7bd76018c"
      },
      "source": [
        "df_num_corr = df_num.corr()['cpi'][:-1] # -1 because the latest row is SalePrice\n",
        "golden_features_list = df_num_corr[abs(df_num_corr) > 0.1].sort_values(ascending=False)\n",
        "print(\"There is {} strongly correlated values with CPI:\\n{}\".format(len(golden_features_list), golden_features_list))"
      ],
      "execution_count": 239,
      "outputs": [
        {
          "output_type": "stream",
          "text": [
            "There is 8 strongly correlated values with CPI:\n",
            "branch_change      0.285149\n",
            "midsem             0.248030\n",
            "quiz               0.216345\n",
            "endsem             0.182151\n",
            "tut                0.168593\n",
            "lab                0.142047\n",
            "attention_class    0.133687\n",
            "tv_time           -0.163025\n",
            "Name: cpi, dtype: float64\n"
          ],
          "name": "stdout"
        }
      ]
    },
    {
      "cell_type": "code",
      "metadata": {
        "id": "ol0z8HZqqcZx",
        "colab": {
          "base_uri": "https://localhost:8080/"
        },
        "outputId": "3aadb127-2e63-4a49-98a8-668a54734891"
      },
      "source": [
        "from sklearn import linear_model\n",
        "reg = linear_model.LinearRegression()\n",
        "reg.fit(data['intra_hostel'].values.reshape(-1,1), data.cpi.values.reshape(-1,1))\n",
        "# predi = reg.predict(data['intra_hostel'].values.reshape(-1,1))\n",
        "# plt.plot(predi)"
      ],
      "execution_count": 283,
      "outputs": [
        {
          "output_type": "execute_result",
          "data": {
            "text/plain": [
              "LinearRegression(copy_X=True, fit_intercept=True, n_jobs=None, normalize=False)"
            ]
          },
          "metadata": {
            "tags": []
          },
          "execution_count": 283
        }
      ]
    },
    {
      "cell_type": "code",
      "metadata": {
        "id": "VVy6PJQRqvit",
        "colab": {
          "base_uri": "https://localhost:8080/",
          "height": 342
        },
        "outputId": "86702e8e-54b2-41ab-f545-3a88c12d3dc4"
      },
      "source": [
        "sns.heatmap(df_num.corr()[(df_num.corr() >= 0.1) | (df_num.corr() <= -0.4)], cmap='viridis')"
      ],
      "execution_count": 241,
      "outputs": [
        {
          "output_type": "execute_result",
          "data": {
            "text/plain": [
              "<matplotlib.axes._subplots.AxesSubplot at 0x7f86c2380210>"
            ]
          },
          "metadata": {
            "tags": []
          },
          "execution_count": 241
        },
        {
          "output_type": "display_data",
          "data": {
            "image/png": "[encoded data removed]",
            "text/plain": [
              "<Figure size 432x288 with 2 Axes>"
            ]
          },
          "metadata": {
            "tags": []
          }
        }
      ]
    },
    {
      "cell_type": "code",
      "metadata": {
        "id": "KOE-wVyTuZ-Y",
        "colab": {
          "base_uri": "https://localhost:8080/",
          "height": 454
        },
        "outputId": "ad9bbe89-567b-4276-9620-45370f1adfd2"
      },
      "source": [
        "from scipy.stats import pearsonr\n",
        "\n",
        "sns.lmplot('branch_change' , 'cpi', data = data)\n",
        "pearsonr(data.branch_change , data.cpi)"
      ],
      "execution_count": 242,
      "outputs": [
        {
          "output_type": "stream",
          "text": [
            "/usr/local/lib/python3.7/dist-packages/seaborn/_decorators.py:43: FutureWarning: Pass the following variables as keyword args: x, y. From version 0.12, the only valid positional argument will be `data`, and passing other arguments without an explicit keyword will result in an error or misinterpretation.\n",
            "  FutureWarning\n"
          ],
          "name": "stderr"
        },
        {
          "output_type": "execute_result",
          "data": {
            "text/plain": [
              "(0.2851490664984514, 2.0770640508069174e-08)"
            ]
          },
          "metadata": {
            "tags": []
          },
          "execution_count": 242
        },
        {
          "output_type": "display_data",
          "data": {
            "image/png": "[encoded data removed]",
            "text/plain": [
              "<Figure size 360x360 with 1 Axes>"
            ]
          },
          "metadata": {
            "tags": []
          }
        }
      ]
    },
    {
      "cell_type": "code",
      "metadata": {
        "id": "BqMBaG21xcXb",
        "colab": {
          "base_uri": "https://localhost:8080/",
          "height": 347
        },
        "outputId": "c9bf3c95-af24-480f-c4df-9da09429b5e4"
      },
      "source": [
        "sns.boxplot('study_time', 'cpi', data = data)"
      ],
      "execution_count": 243,
      "outputs": [
        {
          "output_type": "stream",
          "text": [
            "/usr/local/lib/python3.7/dist-packages/seaborn/_decorators.py:43: FutureWarning: Pass the following variables as keyword args: x, y. From version 0.12, the only valid positional argument will be `data`, and passing other arguments without an explicit keyword will result in an error or misinterpretation.\n",
            "  FutureWarning\n"
          ],
          "name": "stderr"
        },
        {
          "output_type": "execute_result",
          "data": {
            "text/plain": [
              "<matplotlib.axes._subplots.AxesSubplot at 0x7f86c27a6750>"
            ]
          },
          "metadata": {
            "tags": []
          },
          "execution_count": 243
        },
        {
          "output_type": "display_data",
          "data": {
            "image/png": "[encoded data removed]",
            "text/plain": [
              "<Figure size 432x288 with 1 Axes>"
            ]
          },
          "metadata": {
            "tags": []
          }
        }
      ]
    },
    {
      "cell_type": "code",
      "metadata": {
        "id": "ikK3S5UXWEHv",
        "colab": {
          "base_uri": "https://localhost:8080/"
        },
        "outputId": "a5b3208b-a2b4-457f-822d-1c0a641c5810"
      },
      "source": [
        "data.study_time.value_counts()"
      ],
      "execution_count": 244,
      "outputs": [
        {
          "output_type": "execute_result",
          "data": {
            "text/plain": [
              "Irregular                  242\n",
              "Everyday upto 0-2 hours    104\n",
              "Everyday upto 2-4 hours     27\n",
              "Name: study_time, dtype: int64"
            ]
          },
          "metadata": {
            "tags": []
          },
          "execution_count": 244
        }
      ]
    },
    {
      "cell_type": "code",
      "metadata": {
        "id": "reir9AA7YWri",
        "colab": {
          "base_uri": "https://localhost:8080/",
          "height": 347
        },
        "outputId": "dd73f025-bd9a-4714-a8b7-a9ad4b60bbf2"
      },
      "source": [
        "sns.regplot(data.fam_size, data.cpi)"
      ],
      "execution_count": 245,
      "outputs": [
        {
          "output_type": "stream",
          "text": [
            "/usr/local/lib/python3.7/dist-packages/seaborn/_decorators.py:43: FutureWarning: Pass the following variables as keyword args: x, y. From version 0.12, the only valid positional argument will be `data`, and passing other arguments without an explicit keyword will result in an error or misinterpretation.\n",
            "  FutureWarning\n"
          ],
          "name": "stderr"
        },
        {
          "output_type": "execute_result",
          "data": {
            "text/plain": [
              "<matplotlib.axes._subplots.AxesSubplot at 0x7f86c2829110>"
            ]
          },
          "metadata": {
            "tags": []
          },
          "execution_count": 245
        },
        {
          "output_type": "display_data",
          "data": {
            "image/png": "[encoded data removed]",
            "text/plain": [
              "<Figure size 432x288 with 1 Axes>"
            ]
          },
          "metadata": {
            "tags": []
          }
        }
      ]
    },
    {
      "cell_type": "code",
      "metadata": {
        "id": "bbtQSdGnRd89",
        "colab": {
          "base_uri": "https://localhost:8080/",
          "height": 117
        },
        "outputId": "46063c20-0d75-4652-bb12-db576105b14f"
      },
      "source": [
        "data.head(1)"
      ],
      "execution_count": 246,
      "outputs": [
        {
          "output_type": "execute_result",
          "data": {
            "text/html": [
              "<div>\n",
              "<style scoped>\n",
              "    .dataframe tbody tr th:only-of-type {\n",
              "        vertical-align: middle;\n",
              "    }\n",
              "\n",
              "    .dataframe tbody tr th {\n",
              "        vertical-align: top;\n",
              "    }\n",
              "\n",
              "    .dataframe thead th {\n",
              "        text-align: right;\n",
              "    }\n",
              "</style>\n",
              "<table border=\"1\" class=\"dataframe\">\n",
              "  <thead>\n",
              "    <tr style=\"text-align: right;\">\n",
              "      <th></th>\n",
              "      <th>gender</th>\n",
              "      <th>branch</th>\n",
              "      <th>dropper</th>\n",
              "      <th>tenth_board</th>\n",
              "      <th>twelvth_board</th>\n",
              "      <th>coaching</th>\n",
              "      <th>coaching_city</th>\n",
              "      <th>coaching_name</th>\n",
              "      <th>home_state</th>\n",
              "      <th>home_city</th>\n",
              "      <th>fam_size</th>\n",
              "      <th>mom_ed</th>\n",
              "      <th>dad_ed</th>\n",
              "      <th>mom_job</th>\n",
              "      <th>dad_job</th>\n",
              "      <th>study_time</th>\n",
              "      <th>tech_clubs</th>\n",
              "      <th>cult_clubs</th>\n",
              "      <th>fest</th>\n",
              "      <th>hostel</th>\n",
              "      <th>intra_hostel</th>\n",
              "      <th>ed_loan</th>\n",
              "      <th>time_outside</th>\n",
              "      <th>attendance</th>\n",
              "      <th>relationship</th>\n",
              "      <th>tv_time</th>\n",
              "      <th>library</th>\n",
              "      <th>sleep_time</th>\n",
              "      <th>sleep_duration</th>\n",
              "      <th>sleep_day</th>\n",
              "      <th>addiction</th>\n",
              "      <th>ta_relation</th>\n",
              "      <th>lab</th>\n",
              "      <th>tut</th>\n",
              "      <th>quiz</th>\n",
              "      <th>midsem</th>\n",
              "      <th>endsem</th>\n",
              "      <th>branch_change</th>\n",
              "      <th>attention_class</th>\n",
              "      <th>study_preference</th>\n",
              "      <th>material_preference</th>\n",
              "      <th>branch_interest</th>\n",
              "      <th>core</th>\n",
              "      <th>cpi</th>\n",
              "    </tr>\n",
              "  </thead>\n",
              "  <tbody>\n",
              "    <tr>\n",
              "      <th>1</th>\n",
              "      <td>Male</td>\n",
              "      <td>BSBE</td>\n",
              "      <td>No</td>\n",
              "      <td>CBSE</td>\n",
              "      <td>CBSE</td>\n",
              "      <td>No</td>\n",
              "      <td>None</td>\n",
              "      <td>None</td>\n",
              "      <td>Rajasthan</td>\n",
              "      <td>Bikaner</td>\n",
              "      <td>9</td>\n",
              "      <td>Post Graduate</td>\n",
              "      <td>Post Graduate</td>\n",
              "      <td>Housewife</td>\n",
              "      <td>Business</td>\n",
              "      <td>Irregular</td>\n",
              "      <td>CnA, Quiz club</td>\n",
              "      <td>Debsoc</td>\n",
              "      <td>Techniche</td>\n",
              "      <td>Umiam</td>\n",
              "      <td>6.5</td>\n",
              "      <td>No</td>\n",
              "      <td>12.0</td>\n",
              "      <td>Below 90%</td>\n",
              "      <td>Single</td>\n",
              "      <td>2</td>\n",
              "      <td>During Exams</td>\n",
              "      <td>After 12 am</td>\n",
              "      <td>7</td>\n",
              "      <td>No</td>\n",
              "      <td>None</td>\n",
              "      <td>4</td>\n",
              "      <td>4.0</td>\n",
              "      <td>3.0</td>\n",
              "      <td>5.0</td>\n",
              "      <td>5.0</td>\n",
              "      <td>5.0</td>\n",
              "      <td>2.0</td>\n",
              "      <td>1.0</td>\n",
              "      <td>Individual</td>\n",
              "      <td>Online content</td>\n",
              "      <td>3.0</td>\n",
              "      <td>Non-Core</td>\n",
              "      <td>7.56</td>\n",
              "    </tr>\n",
              "  </tbody>\n",
              "</table>\n",
              "</div>"
            ],
            "text/plain": [
              "  gender branch dropper tenth_board twelvth_board coaching coaching_city  \\\n",
              "1   Male   BSBE      No        CBSE          CBSE       No          None   \n",
              "\n",
              "  coaching_name home_state home_city  fam_size         mom_ed         dad_ed  \\\n",
              "1          None  Rajasthan   Bikaner         9  Post Graduate  Post Graduate   \n",
              "\n",
              "     mom_job   dad_job study_time      tech_clubs cult_clubs       fest  \\\n",
              "1  Housewife  Business  Irregular  CnA, Quiz club     Debsoc  Techniche   \n",
              "\n",
              "  hostel  intra_hostel ed_loan  time_outside attendance relationship  tv_time  \\\n",
              "1  Umiam           6.5      No          12.0  Below 90%       Single        2   \n",
              "\n",
              "        library   sleep_time sleep_duration sleep_day addiction  ta_relation  \\\n",
              "1  During Exams  After 12 am              7        No      None            4   \n",
              "\n",
              "   lab  tut  quiz  midsem  endsem  branch_change  attention_class  \\\n",
              "1  4.0  3.0   5.0     5.0     5.0            2.0              1.0   \n",
              "\n",
              "  study_preference material_preference  branch_interest      core   cpi  \n",
              "1       Individual      Online content              3.0  Non-Core  7.56  "
            ]
          },
          "metadata": {
            "tags": []
          },
          "execution_count": 246
        }
      ]
    },
    {
      "cell_type": "code",
      "metadata": {
        "id": "3SRBzSBuefl7",
        "colab": {
          "base_uri": "https://localhost:8080/"
        },
        "outputId": "439f5291-0938-4189-9fe4-28acbe7a33c1"
      },
      "source": [
        "data.addiction.value_counts()"
      ],
      "execution_count": 247,
      "outputs": [
        {
          "output_type": "execute_result",
          "data": {
            "text/plain": [
              "None                       354\n",
              "Drinking                     7\n",
              "Weed                         5\n",
              "Drinking, Smoking, Weed      4\n",
              "Smoking                      2\n",
              "Drinking, Smoking            1\n",
              "Name: addiction, dtype: int64"
            ]
          },
          "metadata": {
            "tags": []
          },
          "execution_count": 247
        }
      ]
    },
    {
      "cell_type": "code",
      "metadata": {
        "id": "6PRVlBNzSDg5",
        "colab": {
          "base_uri": "https://localhost:8080/"
        },
        "outputId": "3bd6fadf-5cb6-4f3a-fe64-be0d2f401559"
      },
      "source": [
        "data['sleep1'] = data.sleep_duration.str.replace('<=','').str.replace('>=','').astype(int)\n",
        "stats.pearsonr(data.sleep1, data.cpi)"
      ],
      "execution_count": 248,
      "outputs": [
        {
          "output_type": "execute_result",
          "data": {
            "text/plain": [
              "(0.06392452409329444, 0.21805969410559817)"
            ]
          },
          "metadata": {
            "tags": []
          },
          "execution_count": 248
        }
      ]
    },
    {
      "cell_type": "code",
      "metadata": {
        "id": "KcuLmczQVlMy",
        "colab": {
          "base_uri": "https://localhost:8080/",
          "height": 279
        },
        "outputId": "19248b14-ab4a-40aa-92ea-5fd2ba3430f4"
      },
      "source": [
        "arr = []\n",
        "for value in data.sleep_time.value_counts().index:\n",
        "  arr.append(data[data.sleep_time.str.contains(value)].cpi.mean())\n",
        "show_pd = pd.DataFrame(arr, data.sleep_time.value_counts().index)\n",
        "show_pd.columns = ['CPI']\n",
        "show_pd.sort_values('CPI', ascending = False, inplace = True)\n",
        "plt.bar(show_pd.index, show_pd.CPI, color = '#fb7458' )"
      ],
      "execution_count": 249,
      "outputs": [
        {
          "output_type": "execute_result",
          "data": {
            "text/plain": [
              "<BarContainer object of 4 artists>"
            ]
          },
          "metadata": {
            "tags": []
          },
          "execution_count": 249
        },
        {
          "output_type": "display_data",
          "data": {
            "image/png": "[encoded data removed]",
            "text/plain": [
              "<Figure size 432x288 with 1 Axes>"
            ]
          },
          "metadata": {
            "tags": []
          }
        }
      ]
    },
    {
      "cell_type": "code",
      "metadata": {
        "id": "j6jrwKffhlhO",
        "colab": {
          "base_uri": "https://localhost:8080/"
        },
        "outputId": "8979af78-fb56-42f3-e5dd-73e7c2d6d33c"
      },
      "source": [
        "for value in ['ta_relation', 'lab', 'tut', 'quiz', 'midsem', 'endsem', 'branch_change', 'attention_class']:\n",
        "  print(pearsonr(data[value] , data.cpi))"
      ],
      "execution_count": 250,
      "outputs": [
        {
          "output_type": "stream",
          "text": [
            "(0.06759853214038015, 0.19269323581101133)\n",
            "(0.14204695496273456, 0.005993759609677569)\n",
            "(0.16859295485720172, 0.0010809279202107114)\n",
            "(0.21634499633889678, 2.5054684328472762e-05)\n",
            "(0.24803037244242002, 1.2334930210592727e-06)\n",
            "(0.18215092691918663, 0.0004066426158176012)\n",
            "(0.2851490664984514, 2.0770640508069174e-08)\n",
            "(0.13368743171433942, 0.00974128797367299)\n"
          ],
          "name": "stdout"
        }
      ]
    },
    {
      "cell_type": "code",
      "metadata": {
        "id": "59en1rFzVIz1",
        "colab": {
          "base_uri": "https://localhost:8080/",
          "height": 362
        },
        "outputId": "5ba3c7d9-bb51-46c2-a27d-e9a9bb636195"
      },
      "source": [
        "sns.violinplot(data.sleep_time, data.cpi, color = '#fb7458',linewidth = 1, order = ['Before 10 pm', 'After 10 pm', 'After 12 am', 'After 2 am'])\n",
        "plt.xlabel('Sleep Time')\n",
        "plt.ylabel('CPI')\n",
        "plt.yticks([0,2,4,6,8,9,10])\n",
        "plt.title('Sleep Time vs CPI')"
      ],
      "execution_count": 251,
      "outputs": [
        {
          "output_type": "stream",
          "text": [
            "/usr/local/lib/python3.7/dist-packages/seaborn/_decorators.py:43: FutureWarning: Pass the following variables as keyword args: x, y. From version 0.12, the only valid positional argument will be `data`, and passing other arguments without an explicit keyword will result in an error or misinterpretation.\n",
            "  FutureWarning\n"
          ],
          "name": "stderr"
        },
        {
          "output_type": "execute_result",
          "data": {
            "text/plain": [
              "Text(0.5, 1.0, 'Sleep Time vs CPI')"
            ]
          },
          "metadata": {
            "tags": []
          },
          "execution_count": 251
        },
        {
          "output_type": "display_data",
          "data": {
            "image/png": "[encoded data removed]",
            "text/plain": [
              "<Figure size 432x288 with 1 Axes>"
            ]
          },
          "metadata": {
            "tags": []
          }
        }
      ]
    },
    {
      "cell_type": "code",
      "metadata": {
        "id": "tFuEb8MZNAW1",
        "colab": {
          "base_uri": "https://localhost:8080/",
          "height": 308
        },
        "outputId": "cb5e1099-4316-4890-ec58-e87c189aae08"
      },
      "source": [
        "scatter = plt.scatter(data.sleep1.value_counts().index, [data[data.sleep1 == jl].cpi.mean() for jl in data.sleep1.value_counts().index], s = [n*3 for n in data.sleep1.value_counts().values], color = '#fb7458' )\n",
        "handles, labels = scatter.legend_elements(prop=\"sizes\", alpha= 1, color = '#fb7458' )\n",
        "plt.legend(handles, [10,45,48,132,138], loc=\"upper left\", title=\"No. of students\")\n",
        "plt.xlabel('Time spent for Intra hostel activities')\n",
        "plt.xticks(ticks = [4,5,6,7,8], labels = ['<=4',5,6,7,'>=8'])\n",
        "plt.xlabel('Sleep Duration')\n",
        "plt.ylabel('CPI')\n",
        "plt.title('Sleep Duration vs CPI')"
      ],
      "execution_count": 252,
      "outputs": [
        {
          "output_type": "execute_result",
          "data": {
            "text/plain": [
              "Text(0.5, 1.0, 'Sleep Duration vs CPI')"
            ]
          },
          "metadata": {
            "tags": []
          },
          "execution_count": 252
        },
        {
          "output_type": "display_data",
          "data": {
            "image/png": "[encoded data removed]",
            "text/plain": [
              "<Figure size 432x288 with 1 Axes>"
            ]
          },
          "metadata": {
            "tags": []
          }
        }
      ]
    },
    {
      "cell_type": "code",
      "metadata": {
        "id": "A-X5_xrXLCRU",
        "colab": {
          "base_uri": "https://localhost:8080/",
          "height": 347
        },
        "outputId": "ed697846-604a-4f09-c458-23c1d74705a2"
      },
      "source": [
        "sns.boxplot(data.sleep_time, data.cpi)"
      ],
      "execution_count": 253,
      "outputs": [
        {
          "output_type": "stream",
          "text": [
            "/usr/local/lib/python3.7/dist-packages/seaborn/_decorators.py:43: FutureWarning: Pass the following variables as keyword args: x, y. From version 0.12, the only valid positional argument will be `data`, and passing other arguments without an explicit keyword will result in an error or misinterpretation.\n",
            "  FutureWarning\n"
          ],
          "name": "stderr"
        },
        {
          "output_type": "execute_result",
          "data": {
            "text/plain": [
              "<matplotlib.axes._subplots.AxesSubplot at 0x7f86c2d7d610>"
            ]
          },
          "metadata": {
            "tags": []
          },
          "execution_count": 253
        },
        {
          "output_type": "display_data",
          "data": {
            "image/png": "[encoded data removed]",
            "text/plain": [
              "<Figure size 432x288 with 1 Axes>"
            ]
          },
          "metadata": {
            "tags": []
          }
        }
      ]
    },
    {
      "cell_type": "code",
      "metadata": {
        "id": "ur9T6qLcJfZO",
        "colab": {
          "base_uri": "https://localhost:8080/",
          "height": 379
        },
        "outputId": "dad7d857-75bd-4012-ee7e-c4db10818fd5"
      },
      "source": [
        "sns.boxplot(data.sleep_day,data.cpi, color = '#fe5330', linewidth =1 )\n",
        "plt.xlabel('sleep during day')\n",
        "plt.ylabel('CPI')\n",
        "plt.title('Sleep during day vs CPI')\n",
        "print(data[data.sleep_day == 'No'].cpi.mean())\n",
        "data[data.sleep_day == 'Yes'].cpi.mean()"
      ],
      "execution_count": 254,
      "outputs": [
        {
          "output_type": "stream",
          "text": [
            "7.8072511210762325\n"
          ],
          "name": "stdout"
        },
        {
          "output_type": "stream",
          "text": [
            "/usr/local/lib/python3.7/dist-packages/seaborn/_decorators.py:43: FutureWarning: Pass the following variables as keyword args: x, y. From version 0.12, the only valid positional argument will be `data`, and passing other arguments without an explicit keyword will result in an error or misinterpretation.\n",
            "  FutureWarning\n"
          ],
          "name": "stderr"
        },
        {
          "output_type": "execute_result",
          "data": {
            "text/plain": [
              "7.5303"
            ]
          },
          "metadata": {
            "tags": []
          },
          "execution_count": 254
        },
        {
          "output_type": "display_data",
          "data": {
            "image/png": "[encoded data removed]",
            "text/plain": [
              "<Figure size 432x288 with 1 Axes>"
            ]
          },
          "metadata": {
            "tags": []
          }
        }
      ]
    },
    {
      "cell_type": "code",
      "metadata": {
        "id": "Mt2FC9WiIjNL",
        "colab": {
          "base_uri": "https://localhost:8080/"
        },
        "outputId": "b4d4eea2-f85c-407a-f980-13c5621da579"
      },
      "source": [
        "data[data.library == 'Often'].cpi.describe()"
      ],
      "execution_count": 255,
      "outputs": [
        {
          "output_type": "execute_result",
          "data": {
            "text/plain": [
              "count    40.000000\n",
              "mean      7.559250\n",
              "std       0.838513\n",
              "min       5.500000\n",
              "25%       7.015000\n",
              "50%       7.700000\n",
              "75%       8.010000\n",
              "max       9.600000\n",
              "Name: cpi, dtype: float64"
            ]
          },
          "metadata": {
            "tags": []
          },
          "execution_count": 255
        }
      ]
    },
    {
      "cell_type": "code",
      "metadata": {
        "id": "ifUeHdRqJLcr",
        "colab": {
          "base_uri": "https://localhost:8080/"
        },
        "outputId": "10d9ae31-14cf-4a8d-91d8-8fe36c970fad"
      },
      "source": [
        "data[data.library == 'During Exams'].cpi.describe()"
      ],
      "execution_count": 256,
      "outputs": [
        {
          "output_type": "execute_result",
          "data": {
            "text/plain": [
              "count    131.000000\n",
              "mean       7.622061\n",
              "std        1.345875\n",
              "min        1.700000\n",
              "25%        6.800000\n",
              "50%        7.800000\n",
              "75%        8.420000\n",
              "max       10.000000\n",
              "Name: cpi, dtype: float64"
            ]
          },
          "metadata": {
            "tags": []
          },
          "execution_count": 256
        }
      ]
    },
    {
      "cell_type": "code",
      "metadata": {
        "id": "0iFn5inDHnyO",
        "colab": {
          "base_uri": "https://localhost:8080/",
          "height": 347
        },
        "outputId": "6fb74530-a225-4aee-aa43-4393d740c3c6"
      },
      "source": [
        "sns.boxplot(data.library, data.cpi)"
      ],
      "execution_count": 257,
      "outputs": [
        {
          "output_type": "stream",
          "text": [
            "/usr/local/lib/python3.7/dist-packages/seaborn/_decorators.py:43: FutureWarning: Pass the following variables as keyword args: x, y. From version 0.12, the only valid positional argument will be `data`, and passing other arguments without an explicit keyword will result in an error or misinterpretation.\n",
            "  FutureWarning\n"
          ],
          "name": "stderr"
        },
        {
          "output_type": "execute_result",
          "data": {
            "text/plain": [
              "<matplotlib.axes._subplots.AxesSubplot at 0x7f86c4113110>"
            ]
          },
          "metadata": {
            "tags": []
          },
          "execution_count": 257
        },
        {
          "output_type": "display_data",
          "data": {
            "image/png": "[encoded data removed]",
            "text/plain": [
              "<Figure size 432x288 with 1 Axes>"
            ]
          },
          "metadata": {
            "tags": []
          }
        }
      ]
    },
    {
      "cell_type": "code",
      "metadata": {
        "id": "4iOlFZXKCBC9",
        "colab": {
          "base_uri": "https://localhost:8080/",
          "height": 469
        },
        "outputId": "b741e182-76b3-4da6-a1c5-eb0713a77cc3"
      },
      "source": [
        "sns.lmplot('tv_time', 'cpi', data=data, line_kws={'color': '#fe5330'}, scatter_kws = {'color': '#fe5330'})\n",
        "linregress(data.tv_time, data.cpi)\n",
        "plt.xlabel('TV Time')\n",
        "plt.ylabel('CPI')\n",
        "plt.title('TV Time vs CPI')\n",
        "X1 = data['tv_time'].values.reshape(-1,1)\n",
        "prediction = reg.predict(X1)\n",
        "from sklearn.metrics import mean_squared_error\n",
        "\n",
        "from math import sqrt\n",
        "\n",
        "rmse = sqrt(mean_squared_error(data.cpi, prediction))\n",
        "\n",
        "print(rmse)"
      ],
      "execution_count": 258,
      "outputs": [
        {
          "output_type": "stream",
          "text": [
            "/usr/local/lib/python3.7/dist-packages/seaborn/_decorators.py:43: FutureWarning: Pass the following variables as keyword args: x, y. From version 0.12, the only valid positional argument will be `data`, and passing other arguments without an explicit keyword will result in an error or misinterpretation.\n",
            "  FutureWarning\n"
          ],
          "name": "stderr"
        },
        {
          "output_type": "stream",
          "text": [
            "1.2290330112062442\n"
          ],
          "name": "stdout"
        },
        {
          "output_type": "display_data",
          "data": {
            "image/png": "[encoded data removed]",
            "text/plain": [
              "<Figure size 360x360 with 1 Axes>"
            ]
          },
          "metadata": {
            "tags": []
          }
        }
      ]
    },
    {
      "cell_type": "code",
      "metadata": {
        "id": "jXPGTWjB52F_",
        "colab": {
          "base_uri": "https://localhost:8080/",
          "height": 362
        },
        "outputId": "5d6167ea-27ce-4a85-a725-20643bac55d2"
      },
      "source": [
        "sns.boxplot(data.relationship, data.cpi, color = '#fe5330', order = ['Single', 'Committed', 'Complicated'])\n",
        "plt.xlabel('Relationship Status')\n",
        "plt.ylabel('CPI')\n",
        "plt.title('Relationship status vs CPI')"
      ],
      "execution_count": 259,
      "outputs": [
        {
          "output_type": "stream",
          "text": [
            "/usr/local/lib/python3.7/dist-packages/seaborn/_decorators.py:43: FutureWarning: Pass the following variables as keyword args: x, y. From version 0.12, the only valid positional argument will be `data`, and passing other arguments without an explicit keyword will result in an error or misinterpretation.\n",
            "  FutureWarning\n"
          ],
          "name": "stderr"
        },
        {
          "output_type": "execute_result",
          "data": {
            "text/plain": [
              "Text(0.5, 1.0, 'Relationship status vs CPI')"
            ]
          },
          "metadata": {
            "tags": []
          },
          "execution_count": 259
        },
        {
          "output_type": "display_data",
          "data": {
            "image/png": "[encoded data removed]",
            "text/plain": [
              "<Figure size 432x288 with 1 Axes>"
            ]
          },
          "metadata": {
            "tags": []
          }
        }
      ]
    },
    {
      "cell_type": "code",
      "metadata": {
        "id": "OMdfwt3QMsjT",
        "colab": {
          "base_uri": "https://localhost:8080/",
          "height": 279
        },
        "outputId": "2356535b-bce1-4821-8d48-57d863dac85f"
      },
      "source": [
        "plt.scatter('time_outside', 'cpi', data = data)"
      ],
      "execution_count": 260,
      "outputs": [
        {
          "output_type": "execute_result",
          "data": {
            "text/plain": [
              "<matplotlib.collections.PathCollection at 0x7f86c9d45bd0>"
            ]
          },
          "metadata": {
            "tags": []
          },
          "execution_count": 260
        },
        {
          "output_type": "display_data",
          "data": {
            "image/png": "[encoded data removed]",
            "text/plain": [
              "<Figure size 432x288 with 1 Axes>"
            ]
          },
          "metadata": {
            "tags": []
          }
        }
      ]
    },
    {
      "cell_type": "code",
      "metadata": {
        "id": "6aAf2b_3yKma",
        "colab": {
          "base_uri": "https://localhost:8080/",
          "height": 308
        },
        "outputId": "ad2b8e72-0308-4f44-d4fb-2fd8a4a1e94f"
      },
      "source": [
        "# sns.boxplot(data.study_time, data.cpi)\n",
        "dar = pd.DataFrame([data[data.study_time == i].cpi.mean() for i in data.study_time.value_counts().index] , data.study_time.value_counts().index)\n",
        "darmale = pd.DataFrame([data[(data.study_time == i) & (data.gender == 'Male')].cpi.mean() for i in data.study_time.value_counts().index] , data.study_time.value_counts().index)\n",
        "darfemale = pd.DataFrame([data[(data.study_time == i) & (data.gender == 'Female')].cpi.mean() for i in data.study_time.value_counts().index] , data.study_time.value_counts().index)\n",
        "length = np.arange(3)\n",
        "width = 0.25\n",
        "plt.bar(length - width, dar[0], width = width, color = 'red', label = 'All')\n",
        "plt.bar(length, darmale[0], width = width, color = '#fe5330', label = 'Male')\n",
        "plt.bar(length + width, darfemale[0], width = width, color = 'pink', label = 'Female')\n",
        "plt.xticks(ticks = length, labels = ['Irregular', ' Upto 0-2 hours', 'Upto 2-4 hours'])\n",
        "plt.xlabel('Study Time per day')\n",
        "plt.legend()\n",
        "plt.legend(bbox_to_anchor = [1,1])\n",
        "plt.ylabel('CPI')\n",
        "plt.title('Study Time vs CPI')"
      ],
      "execution_count": 261,
      "outputs": [
        {
          "output_type": "execute_result",
          "data": {
            "text/plain": [
              "Text(0.5, 1.0, 'Study Time vs CPI')"
            ]
          },
          "metadata": {
            "tags": []
          },
          "execution_count": 261
        },
        {
          "output_type": "display_data",
          "data": {
            "image/png": "[encoded data removed]",
            "text/plain": [
              "<Figure size 432x288 with 1 Axes>"
            ]
          },
          "metadata": {
            "tags": []
          }
        }
      ]
    },
    {
      "cell_type": "code",
      "metadata": {
        "id": "IjMB48R2a-jU",
        "colab": {
          "base_uri": "https://localhost:8080/"
        },
        "outputId": "1321ebac-edd9-4598-a0d6-c2cccab70fdf"
      },
      "source": [
        "ls = []\n",
        "ls.append(data[(data.fam_size == 1) | (data.fam_size == 2) |(data.fam_size == 3)].cpi.mean())\n",
        "ls.append(data[(data.fam_size == 4) | (data.fam_size == 5) |(data.fam_size == 6)].cpi.mean())\n",
        "ls.append(data[(data.fam_size == 7) | (data.fam_size == 8) |(data.fam_size == 9)].cpi.mean())\n",
        "ls.append(data[(data.fam_size == 10) | (data.fam_size == 11) |(data.fam_size == 12)].cpi.mean())\n",
        "ls"
      ],
      "execution_count": 262,
      "outputs": [
        {
          "output_type": "execute_result",
          "data": {
            "text/plain": [
              "[8.01026315789474, 7.6098701298701314, 8.076818181818181, 8.527642857142856]"
            ]
          },
          "metadata": {
            "tags": []
          },
          "execution_count": 262
        }
      ]
    },
    {
      "cell_type": "code",
      "metadata": {
        "id": "v-keBmAYxq4z",
        "colab": {
          "base_uri": "https://localhost:8080/",
          "height": 483
        },
        "outputId": "add2b36f-f18c-48ea-d5e1-6873a12869b3"
      },
      "source": [
        "show_pd = pd.DataFrame([data[data.fam_size == i].cpi.mean() for i in data.fam_size.value_counts().index] , data.fam_size.value_counts().index)\n",
        "show_pd.sort_values(by = 0)"
      ],
      "execution_count": 263,
      "outputs": [
        {
          "output_type": "execute_result",
          "data": {
            "text/html": [
              "<div>\n",
              "<style scoped>\n",
              "    .dataframe tbody tr th:only-of-type {\n",
              "        vertical-align: middle;\n",
              "    }\n",
              "\n",
              "    .dataframe tbody tr th {\n",
              "        vertical-align: top;\n",
              "    }\n",
              "\n",
              "    .dataframe thead th {\n",
              "        text-align: right;\n",
              "    }\n",
              "</style>\n",
              "<table border=\"1\" class=\"dataframe\">\n",
              "  <thead>\n",
              "    <tr style=\"text-align: right;\">\n",
              "      <th></th>\n",
              "      <th>0</th>\n",
              "    </tr>\n",
              "  </thead>\n",
              "  <tbody>\n",
              "    <tr>\n",
              "      <th>2</th>\n",
              "      <td>6.370000</td>\n",
              "    </tr>\n",
              "    <tr>\n",
              "      <th>1</th>\n",
              "      <td>6.770000</td>\n",
              "    </tr>\n",
              "    <tr>\n",
              "      <th>14</th>\n",
              "      <td>7.000000</td>\n",
              "    </tr>\n",
              "    <tr>\n",
              "      <th>18</th>\n",
              "      <td>7.100000</td>\n",
              "    </tr>\n",
              "    <tr>\n",
              "      <th>6</th>\n",
              "      <td>7.320333</td>\n",
              "    </tr>\n",
              "    <tr>\n",
              "      <th>5</th>\n",
              "      <td>7.440937</td>\n",
              "    </tr>\n",
              "    <tr>\n",
              "      <th>7</th>\n",
              "      <td>7.592143</td>\n",
              "    </tr>\n",
              "    <tr>\n",
              "      <th>4</th>\n",
              "      <td>7.700981</td>\n",
              "    </tr>\n",
              "    <tr>\n",
              "      <th>3</th>\n",
              "      <td>8.090278</td>\n",
              "    </tr>\n",
              "    <tr>\n",
              "      <th>10</th>\n",
              "      <td>8.355222</td>\n",
              "    </tr>\n",
              "    <tr>\n",
              "      <th>11</th>\n",
              "      <td>8.473333</td>\n",
              "    </tr>\n",
              "    <tr>\n",
              "      <th>9</th>\n",
              "      <td>8.630000</td>\n",
              "    </tr>\n",
              "    <tr>\n",
              "      <th>12</th>\n",
              "      <td>9.385000</td>\n",
              "    </tr>\n",
              "    <tr>\n",
              "      <th>8</th>\n",
              "      <td>9.810000</td>\n",
              "    </tr>\n",
              "  </tbody>\n",
              "</table>\n",
              "</div>"
            ],
            "text/plain": [
              "           0\n",
              "2   6.370000\n",
              "1   6.770000\n",
              "14  7.000000\n",
              "18  7.100000\n",
              "6   7.320333\n",
              "5   7.440937\n",
              "7   7.592143\n",
              "4   7.700981\n",
              "3   8.090278\n",
              "10  8.355222\n",
              "11  8.473333\n",
              "9   8.630000\n",
              "12  9.385000\n",
              "8   9.810000"
            ]
          },
          "metadata": {
            "tags": []
          },
          "execution_count": 263
        }
      ]
    },
    {
      "cell_type": "code",
      "metadata": {
        "id": "Q5bVS6069oEC",
        "colab": {
          "base_uri": "https://localhost:8080/"
        },
        "outputId": "aa33f8fd-2fe4-48b5-fd71-5af29ad8e6a0"
      },
      "source": [
        "data[data.material_preference == 'Online content'].cpi.mean()"
      ],
      "execution_count": 264,
      "outputs": [
        {
          "output_type": "execute_result",
          "data": {
            "text/plain": [
              "7.675287162162161"
            ]
          },
          "metadata": {
            "tags": []
          },
          "execution_count": 264
        }
      ]
    },
    {
      "cell_type": "code",
      "metadata": {
        "id": "sMYOwlwsowS1",
        "colab": {
          "base_uri": "https://localhost:8080/",
          "height": 362
        },
        "outputId": "98132231-1949-44ff-82da-d52120f5b34f"
      },
      "source": [
        "sns.boxplot(data.branch_interest, data.cpi, color = '#fe5330' )\n",
        "plt.xlabel('Branch Interest')\n",
        "plt.ylabel('CPI')\n",
        "plt.title('Branch Interest vs CPI')"
      ],
      "execution_count": 265,
      "outputs": [
        {
          "output_type": "stream",
          "text": [
            "/usr/local/lib/python3.7/dist-packages/seaborn/_decorators.py:43: FutureWarning: Pass the following variables as keyword args: x, y. From version 0.12, the only valid positional argument will be `data`, and passing other arguments without an explicit keyword will result in an error or misinterpretation.\n",
            "  FutureWarning\n"
          ],
          "name": "stderr"
        },
        {
          "output_type": "execute_result",
          "data": {
            "text/plain": [
              "Text(0.5, 1.0, 'Branch Interest vs CPI')"
            ]
          },
          "metadata": {
            "tags": []
          },
          "execution_count": 265
        },
        {
          "output_type": "display_data",
          "data": {
            "image/png": "[encoded data removed]",
            "text/plain": [
              "<Figure size 432x288 with 1 Axes>"
            ]
          },
          "metadata": {
            "tags": []
          }
        }
      ]
    },
    {
      "cell_type": "code",
      "metadata": {
        "id": "SAFv5Ertpk6h",
        "colab": {
          "base_uri": "https://localhost:8080/",
          "height": 347
        },
        "outputId": "46a3d62c-42a3-4199-c86a-e8960b5f2569"
      },
      "source": [
        "sns.boxplot(data.endsem, data.cpi)"
      ],
      "execution_count": 266,
      "outputs": [
        {
          "output_type": "stream",
          "text": [
            "/usr/local/lib/python3.7/dist-packages/seaborn/_decorators.py:43: FutureWarning: Pass the following variables as keyword args: x, y. From version 0.12, the only valid positional argument will be `data`, and passing other arguments without an explicit keyword will result in an error or misinterpretation.\n",
            "  FutureWarning\n"
          ],
          "name": "stderr"
        },
        {
          "output_type": "execute_result",
          "data": {
            "text/plain": [
              "<matplotlib.axes._subplots.AxesSubplot at 0x7f86c31d6410>"
            ]
          },
          "metadata": {
            "tags": []
          },
          "execution_count": 266
        },
        {
          "output_type": "display_data",
          "data": {
            "image/png": "[encoded data removed]",
            "text/plain": [
              "<Figure size 432x288 with 1 Axes>"
            ]
          },
          "metadata": {
            "tags": []
          }
        }
      ]
    },
    {
      "cell_type": "code",
      "metadata": {
        "id": "B0wB7o1D736r",
        "colab": {
          "base_uri": "https://localhost:8080/"
        },
        "outputId": "ad80a3ae-818c-46d2-a204-1d44350c9602"
      },
      "source": [
        "data[data.tenth_board == 'ICSE'].cpi.describe()"
      ],
      "execution_count": 267,
      "outputs": [
        {
          "output_type": "execute_result",
          "data": {
            "text/plain": [
              "count    30.000000\n",
              "mean      8.033900\n",
              "std       1.190102\n",
              "min       6.200000\n",
              "25%       7.050000\n",
              "50%       7.865000\n",
              "75%       9.100000\n",
              "max      10.000000\n",
              "Name: cpi, dtype: float64"
            ]
          },
          "metadata": {
            "tags": []
          },
          "execution_count": 267
        }
      ]
    },
    {
      "cell_type": "code",
      "metadata": {
        "id": "1GwLWEoQ_6E3",
        "colab": {
          "base_uri": "https://localhost:8080/"
        },
        "outputId": "b2dfab22-af21-4f11-d964-39840f098b52"
      },
      "source": [
        "data[data.tenth_board == 'CBSE'].cpi.describe()"
      ],
      "execution_count": 268,
      "outputs": [
        {
          "output_type": "execute_result",
          "data": {
            "text/plain": [
              "count    256.000000\n",
              "mean       7.768965\n",
              "std        1.211683\n",
              "min        1.700000\n",
              "25%        7.200000\n",
              "50%        7.820000\n",
              "75%        8.502500\n",
              "max       10.000000\n",
              "Name: cpi, dtype: float64"
            ]
          },
          "metadata": {
            "tags": []
          },
          "execution_count": 268
        }
      ]
    },
    {
      "cell_type": "code",
      "metadata": {
        "id": "T3_Agb7W_9JX",
        "colab": {
          "base_uri": "https://localhost:8080/",
          "height": 308
        },
        "outputId": "6f26d69d-0f4b-4093-ab9c-035fd5fc6233"
      },
      "source": [
        "sns.boxplot( x = data.gender, y = data.cpi, color = '#fe5330', linewidth = 1.5)\n",
        "style.use('seaborn-dark')\n",
        "plt.xlabel('Gender')\n",
        "plt.ylabel('CPI')\n",
        "plt.title('Gender vs CPI')"
      ],
      "execution_count": 269,
      "outputs": [
        {
          "output_type": "execute_result",
          "data": {
            "text/plain": [
              "Text(0.5, 1.0, 'Gender vs CPI')"
            ]
          },
          "metadata": {
            "tags": []
          },
          "execution_count": 269
        },
        {
          "output_type": "display_data",
          "data": {
            "image/png": "[encoded data removed]",
            "text/plain": [
              "<Figure size 432x288 with 1 Axes>"
            ]
          },
          "metadata": {
            "tags": []
          }
        }
      ]
    },
    {
      "cell_type": "code",
      "metadata": {
        "id": "toFJfILsAEqk",
        "colab": {
          "base_uri": "https://localhost:8080/",
          "height": 480
        },
        "outputId": "98e22258-8e4f-4cd0-e75d-52f5a566bdd4"
      },
      "source": [
        "sns.boxplot( x = data.coaching, y = data.cpi, color = '#fe5330', linewidth = 1.5)\n",
        "plt.yticks([0,1,2,3,4,5,6,7,8,9,10])"
      ],
      "execution_count": 270,
      "outputs": [
        {
          "output_type": "execute_result",
          "data": {
            "text/plain": [
              "([<matplotlib.axis.YTick at 0x7f86c327fed0>,\n",
              "  <matplotlib.axis.YTick at 0x7f86c3285e90>,\n",
              "  <matplotlib.axis.YTick at 0x7f86c2df1190>,\n",
              "  <matplotlib.axis.YTick at 0x7f86c2220790>,\n",
              "  <matplotlib.axis.YTick at 0x7f86c2231e10>,\n",
              "  <matplotlib.axis.YTick at 0x7f86c2220810>,\n",
              "  <matplotlib.axis.YTick at 0x7f86c3245610>,\n",
              "  <matplotlib.axis.YTick at 0x7f86c3245b50>,\n",
              "  <matplotlib.axis.YTick at 0x7f86c3245d90>,\n",
              "  <matplotlib.axis.YTick at 0x7f86c3242610>,\n",
              "  <matplotlib.axis.YTick at 0x7f86c3242b10>],\n",
              " <a list of 11 Text major ticklabel objects>)"
            ]
          },
          "metadata": {
            "tags": []
          },
          "execution_count": 270
        },
        {
          "output_type": "display_data",
          "data": {
            "image/png": "[encoded data removed]",
            "text/plain": [
              "<Figure size 432x288 with 1 Axes>"
            ]
          },
          "metadata": {
            "tags": []
          }
        }
      ]
    },
    {
      "cell_type": "code",
      "metadata": {
        "id": "BFnzS2HZp-L8",
        "colab": {
          "base_uri": "https://localhost:8080/"
        },
        "outputId": "85e1b5fb-7a2f-4063-88ac-75faaf6a222f"
      },
      "source": [
        "data[data.tenth_board == 'CBSE'].cpi.max()"
      ],
      "execution_count": 271,
      "outputs": [
        {
          "output_type": "execute_result",
          "data": {
            "text/plain": [
              "10.0"
            ]
          },
          "metadata": {
            "tags": []
          },
          "execution_count": 271
        }
      ]
    },
    {
      "cell_type": "code",
      "metadata": {
        "id": "ZsuCAjXFbTVr",
        "colab": {
          "base_uri": "https://localhost:8080/",
          "height": 308
        },
        "outputId": "ac1a6275-d97a-492b-cbbd-27197ea1f83d"
      },
      "source": [
        "sns.boxplot( x = data.tenth_board, y = data.cpi, color = '#fe5330', linewidth = 1.5, order = ['ICSE', 'CBSE', 'State'])\n",
        "plt.xlabel('Tenth Board')\n",
        "plt.ylabel('CPI')\n",
        "plt.title('Tenth Board vs CPI')"
      ],
      "execution_count": 272,
      "outputs": [
        {
          "output_type": "execute_result",
          "data": {
            "text/plain": [
              "Text(0.5, 1.0, 'Tenth Board vs CPI')"
            ]
          },
          "metadata": {
            "tags": []
          },
          "execution_count": 272
        },
        {
          "output_type": "display_data",
          "data": {
            "image/png": "[encoded data removed]",
            "text/plain": [
              "<Figure size 432x288 with 1 Axes>"
            ]
          },
          "metadata": {
            "tags": []
          }
        }
      ]
    },
    {
      "cell_type": "code",
      "metadata": {
        "id": "qFWl__ndAx2S",
        "colab": {
          "base_uri": "https://localhost:8080/",
          "height": 308
        },
        "outputId": "102d38f0-98e9-47d8-dc16-c6a1b90b8908"
      },
      "source": [
        "sns.boxplot( x = data[data.gender == 'Male'].tenth_board, y = data[data.gender == 'Male'].cpi, color = '#fe5330', linewidth = 1.5, order = ['ICSE', 'CBSE', 'State'])\n",
        "plt.xlabel('Twelfth Board')\n",
        "plt.ylabel('CPI')\n",
        "plt.title('Tweltfh Board vs CPI')"
      ],
      "execution_count": 273,
      "outputs": [
        {
          "output_type": "execute_result",
          "data": {
            "text/plain": [
              "Text(0.5, 1.0, 'Tweltfh Board vs CPI')"
            ]
          },
          "metadata": {
            "tags": []
          },
          "execution_count": 273
        },
        {
          "output_type": "display_data",
          "data": {
            "image/png": "[encoded data removed]",
            "text/plain": [
              "<Figure size 432x288 with 1 Axes>"
            ]
          },
          "metadata": {
            "tags": []
          }
        }
      ]
    },
    {
      "cell_type": "code",
      "metadata": {
        "id": "S7OB4TzGHkFE",
        "colab": {
          "base_uri": "https://localhost:8080/"
        },
        "outputId": "5c538f4c-7ba5-4a20-a930-7db83f7ab637"
      },
      "source": [
        "data.mom_job.value_counts()"
      ],
      "execution_count": 274,
      "outputs": [
        {
          "output_type": "execute_result",
          "data": {
            "text/plain": [
              "Housewife               245\n",
              "Govt                     53\n",
              "Else                     28\n",
              "Medical                  18\n",
              "Business                 14\n",
              "Technical                 7\n",
              "Management & Finance      5\n",
              "Artist                    2\n",
              "Law                       1\n",
              "Name: mom_job, dtype: int64"
            ]
          },
          "metadata": {
            "tags": []
          },
          "execution_count": 274
        }
      ]
    },
    {
      "cell_type": "code",
      "metadata": {
        "id": "RGneUaA29OEK",
        "colab": {
          "base_uri": "https://localhost:8080/",
          "height": 328
        },
        "outputId": "53894792-2dcf-4a43-88bf-14d95fc935cf"
      },
      "source": [
        "pd.DataFrame([data[data.mom_job == i].cpi.mean() for i in data.mom_job.value_counts().index] , data.mom_job.value_counts().index)"
      ],
      "execution_count": 275,
      "outputs": [
        {
          "output_type": "execute_result",
          "data": {
            "text/html": [
              "<div>\n",
              "<style scoped>\n",
              "    .dataframe tbody tr th:only-of-type {\n",
              "        vertical-align: middle;\n",
              "    }\n",
              "\n",
              "    .dataframe tbody tr th {\n",
              "        vertical-align: top;\n",
              "    }\n",
              "\n",
              "    .dataframe thead th {\n",
              "        text-align: right;\n",
              "    }\n",
              "</style>\n",
              "<table border=\"1\" class=\"dataframe\">\n",
              "  <thead>\n",
              "    <tr style=\"text-align: right;\">\n",
              "      <th></th>\n",
              "      <th>0</th>\n",
              "    </tr>\n",
              "  </thead>\n",
              "  <tbody>\n",
              "    <tr>\n",
              "      <th>Housewife</th>\n",
              "      <td>7.641192</td>\n",
              "    </tr>\n",
              "    <tr>\n",
              "      <th>Govt</th>\n",
              "      <td>7.666226</td>\n",
              "    </tr>\n",
              "    <tr>\n",
              "      <th>Else</th>\n",
              "      <td>7.781429</td>\n",
              "    </tr>\n",
              "    <tr>\n",
              "      <th>Medical</th>\n",
              "      <td>7.936667</td>\n",
              "    </tr>\n",
              "    <tr>\n",
              "      <th>Business</th>\n",
              "      <td>7.877143</td>\n",
              "    </tr>\n",
              "    <tr>\n",
              "      <th>Technical</th>\n",
              "      <td>7.682857</td>\n",
              "    </tr>\n",
              "    <tr>\n",
              "      <th>Management &amp; Finance</th>\n",
              "      <td>8.454000</td>\n",
              "    </tr>\n",
              "    <tr>\n",
              "      <th>Artist</th>\n",
              "      <td>8.345000</td>\n",
              "    </tr>\n",
              "    <tr>\n",
              "      <th>Law</th>\n",
              "      <td>8.400000</td>\n",
              "    </tr>\n",
              "  </tbody>\n",
              "</table>\n",
              "</div>"
            ],
            "text/plain": [
              "                             0\n",
              "Housewife             7.641192\n",
              "Govt                  7.666226\n",
              "Else                  7.781429\n",
              "Medical               7.936667\n",
              "Business              7.877143\n",
              "Technical             7.682857\n",
              "Management & Finance  8.454000\n",
              "Artist                8.345000\n",
              "Law                   8.400000"
            ]
          },
          "metadata": {
            "tags": []
          },
          "execution_count": 275
        }
      ]
    },
    {
      "cell_type": "code",
      "metadata": {
        "id": "0DfAppeOF8Fa",
        "colab": {
          "base_uri": "https://localhost:8080/"
        },
        "outputId": "1762b79a-6a4d-47ac-d758-cf8b54dd42ba"
      },
      "source": [
        "data.dad_job.value_counts()\n"
      ],
      "execution_count": 276,
      "outputs": [
        {
          "output_type": "execute_result",
          "data": {
            "text/plain": [
              "Govt                    132\n",
              "Business                 95\n",
              "Else                     57\n",
              "Technical                37\n",
              "Management & Finance     28\n",
              "Medical                  21\n",
              "Law                       2\n",
              "Artist                    1\n",
              "Name: dad_job, dtype: int64"
            ]
          },
          "metadata": {
            "tags": []
          },
          "execution_count": 276
        }
      ]
    },
    {
      "cell_type": "code",
      "metadata": {
        "id": "p_mpSbfZMmXK",
        "colab": {
          "base_uri": "https://localhost:8080/",
          "height": 204
        },
        "outputId": "f36ae134-a65a-44af-ff7c-37f276ec7d36"
      },
      "source": [
        "show_pd = pd.DataFrame([data[data.dad_ed == i].cpi.mean() for i in ['Post Graduate', 'Graduate', '12th Pass', '10th Pass', '< 10th Pass']] , ['Post Graduate', 'Graduate', '12th Pass', '10th Pass', '<10th Pass'])\n",
        "show_pd\n"
      ],
      "execution_count": 277,
      "outputs": [
        {
          "output_type": "execute_result",
          "data": {
            "text/html": [
              "<div>\n",
              "<style scoped>\n",
              "    .dataframe tbody tr th:only-of-type {\n",
              "        vertical-align: middle;\n",
              "    }\n",
              "\n",
              "    .dataframe tbody tr th {\n",
              "        vertical-align: top;\n",
              "    }\n",
              "\n",
              "    .dataframe thead th {\n",
              "        text-align: right;\n",
              "    }\n",
              "</style>\n",
              "<table border=\"1\" class=\"dataframe\">\n",
              "  <thead>\n",
              "    <tr style=\"text-align: right;\">\n",
              "      <th></th>\n",
              "      <th>0</th>\n",
              "    </tr>\n",
              "  </thead>\n",
              "  <tbody>\n",
              "    <tr>\n",
              "      <th>Post Graduate</th>\n",
              "      <td>7.912411</td>\n",
              "    </tr>\n",
              "    <tr>\n",
              "      <th>Graduate</th>\n",
              "      <td>7.648562</td>\n",
              "    </tr>\n",
              "    <tr>\n",
              "      <th>12th Pass</th>\n",
              "      <td>7.526711</td>\n",
              "    </tr>\n",
              "    <tr>\n",
              "      <th>10th Pass</th>\n",
              "      <td>7.673529</td>\n",
              "    </tr>\n",
              "    <tr>\n",
              "      <th>&lt;10th Pass</th>\n",
              "      <td>6.625333</td>\n",
              "    </tr>\n",
              "  </tbody>\n",
              "</table>\n",
              "</div>"
            ],
            "text/plain": [
              "                      0\n",
              "Post Graduate  7.912411\n",
              "Graduate       7.648562\n",
              "12th Pass      7.526711\n",
              "10th Pass      7.673529\n",
              "<10th Pass     6.625333"
            ]
          },
          "metadata": {
            "tags": []
          },
          "execution_count": 277
        }
      ]
    },
    {
      "cell_type": "code",
      "metadata": {
        "id": "kxKa-87CNdxD",
        "colab": {
          "base_uri": "https://localhost:8080/",
          "height": 235
        },
        "outputId": "3aa1d9df-e24f-4845-f96d-53df163e4cb4"
      },
      "source": [
        "show_pd = pd.DataFrame([data[data.mom_ed == i].cpi.mean() for i in data.mom_ed.value_counts().index] , data.mom_ed.value_counts().index)\n",
        "show_pd"
      ],
      "execution_count": 278,
      "outputs": [
        {
          "output_type": "execute_result",
          "data": {
            "text/html": [
              "<div>\n",
              "<style scoped>\n",
              "    .dataframe tbody tr th:only-of-type {\n",
              "        vertical-align: middle;\n",
              "    }\n",
              "\n",
              "    .dataframe tbody tr th {\n",
              "        vertical-align: top;\n",
              "    }\n",
              "\n",
              "    .dataframe thead th {\n",
              "        text-align: right;\n",
              "    }\n",
              "</style>\n",
              "<table border=\"1\" class=\"dataframe\">\n",
              "  <thead>\n",
              "    <tr style=\"text-align: right;\">\n",
              "      <th></th>\n",
              "      <th>0</th>\n",
              "    </tr>\n",
              "  </thead>\n",
              "  <tbody>\n",
              "    <tr>\n",
              "      <th>Graduate</th>\n",
              "      <td>7.634667</td>\n",
              "    </tr>\n",
              "    <tr>\n",
              "      <th>Post Graduate</th>\n",
              "      <td>8.046066</td>\n",
              "    </tr>\n",
              "    <tr>\n",
              "      <th>12th Pass</th>\n",
              "      <td>7.564468</td>\n",
              "    </tr>\n",
              "    <tr>\n",
              "      <th>10th Pass</th>\n",
              "      <td>7.459912</td>\n",
              "    </tr>\n",
              "    <tr>\n",
              "      <th>&lt;10th Pass</th>\n",
              "      <td>7.049853</td>\n",
              "    </tr>\n",
              "    <tr>\n",
              "      <th>None</th>\n",
              "      <td>9.400000</td>\n",
              "    </tr>\n",
              "  </tbody>\n",
              "</table>\n",
              "</div>"
            ],
            "text/plain": [
              "                      0\n",
              "Graduate       7.634667\n",
              "Post Graduate  8.046066\n",
              "12th Pass      7.564468\n",
              "10th Pass      7.459912\n",
              "<10th Pass     7.049853\n",
              "None           9.400000"
            ]
          },
          "metadata": {
            "tags": []
          },
          "execution_count": 278
        }
      ]
    },
    {
      "cell_type": "code",
      "metadata": {
        "id": "s0ZVPg9SNr3S",
        "colab": {
          "base_uri": "https://localhost:8080/",
          "height": 308
        },
        "outputId": "595270b4-5089-4405-f571-ead102d4f0df"
      },
      "source": [
        "plt.plot(bun.index, bun[0], linewidth = 2, color = '#fb7458', linestyle = '--', label = 'Mother\\'s education')\n",
        "plt.plot(bun.index, bun[0], linewidth = 2, color = '#fb7458', label = 'Father\\'s education' )\n",
        "plt.scatter(bun.index, bun[0], color = '#fb7458')\n",
        "plt.scatter(bun.index, bun[0], color = '#fb7458' )\n",
        "plt.legend()\n",
        "plt.xlabel('Parent\\'s education')\n",
        "plt.ylabel('CPI')\n",
        "plt.title('Parent\\'s education vs CPI')"
      ],
      "execution_count": 279,
      "outputs": [
        {
          "output_type": "execute_result",
          "data": {
            "text/plain": [
              "Text(0.5, 1.0, \"Parent's education vs CPI\")"
            ]
          },
          "metadata": {
            "tags": []
          },
          "execution_count": 279
        },
        {
          "output_type": "display_data",
          "data": {
            "image/png": "[encoded data removed]",
            "text/plain": [
              "<Figure size 432x288 with 1 Axes>"
            ]
          },
          "metadata": {
            "tags": []
          }
        }
      ]
    },
    {
      "cell_type": "code",
      "metadata": {
        "id": "imHJJkvWN0OM",
        "colab": {
          "base_uri": "https://localhost:8080/",
          "height": 279
        },
        "outputId": "5b80c059-7129-42d6-b270-9b2c4a931ae3"
      },
      "source": [
        "plt.scatter(data.ta_relation, data.cpi)"
      ],
      "execution_count": 280,
      "outputs": [
        {
          "output_type": "execute_result",
          "data": {
            "text/plain": [
              "<matplotlib.collections.PathCollection at 0x7f86c209e890>"
            ]
          },
          "metadata": {
            "tags": []
          },
          "execution_count": 280
        },
        {
          "output_type": "display_data",
          "data": {
            "image/png": "[encoded data removed]",
            "text/plain": [
              "<Figure size 432x288 with 1 Axes>"
            ]
          },
          "metadata": {
            "tags": []
          }
        }
      ]
    },
    {
      "cell_type": "code",
      "metadata": {
        "id": "o2FKNdAQRU9W",
        "colab": {
          "base_uri": "https://localhost:8080/"
        },
        "outputId": "c29a2a57-3c44-4470-d367-55934bec1445"
      },
      "source": [
        "[data[data.dropper == i].cpi.mean() for i in data.dropper.value_counts().index]"
      ],
      "execution_count": 281,
      "outputs": [
        {
          "output_type": "execute_result",
          "data": {
            "text/plain": [
              "[7.883385496183202, 7.253288288288289]"
            ]
          },
          "metadata": {
            "tags": []
          },
          "execution_count": 281
        }
      ]
    },
    {
      "cell_type": "code",
      "metadata": {
        "id": "VkkY_MG10Lrr",
        "colab": {
          "base_uri": "https://localhost:8080/",
          "height": 362
        },
        "outputId": "a3f3cc57-2170-4ea4-d94e-587e258580c0"
      },
      "source": [
        "style.use('seaborn-dark')\n",
        "\n",
        "sns.boxplot(data[data.gender == 'Female'].dropper, data.cpi, color = '#fb7458', linewidth = 1 )\n",
        "plt.xlabel('Dropper')\n",
        "plt.ylabel('CPI')\n",
        "plt.title('Dropper(Female) vs CPI')\n",
        "plt.yticks([0,2,4,6,8,10])\n",
        "data[data.dropper == 'No'].cpi.max()"
      ],
      "execution_count": 282,
      "outputs": [
        {
          "output_type": "stream",
          "text": [
            "/usr/local/lib/python3.7/dist-packages/seaborn/_decorators.py:43: FutureWarning: Pass the following variables as keyword args: x, y. From version 0.12, the only valid positional argument will be `data`, and passing other arguments without an explicit keyword will result in an error or misinterpretation.\n",
            "  FutureWarning\n"
          ],
          "name": "stderr"
        },
        {
          "output_type": "execute_result",
          "data": {
            "text/plain": [
              "10.0"
            ]
          },
          "metadata": {
            "tags": []
          },
          "execution_count": 282
        },
        {
          "output_type": "display_data",
          "data": {
            "image/png": "[encoded data removed]",
            "text/plain": [
              "<Figure size 432x288 with 1 Axes>"
            ]
          },
          "metadata": {
            "tags": []
          }
        }
      ]
    }
  ]
}